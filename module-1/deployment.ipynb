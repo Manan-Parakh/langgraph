{
 "cells": [
  {
   "cell_type": "markdown",
   "metadata": {},
   "source": [
    "# Deployment"
   ]
  },
  {
   "cell_type": "markdown",
   "metadata": {},
   "source": [
    "## Concepts\n",
    "\n",
    "`Langgraph`\n",
    "- Python and JS library -> Creates Agentic Workflows\n",
    "\n",
    "`Langgraph API`\n",
    "- Bundles the code\n",
    "- Provides a task queue for managing asynchronous operations\n",
    "- Offers persistence for maintaining state across interactions\n",
    "\n",
    "`Langgraph Cloud`\n",
    "- Hosts the API\n",
    "- Allowd graph deployment from Github repos\n",
    "- Provides monitoring and tracing for deployed graphs\n",
    "- Accessible via a unique url for each deployment\n",
    "\n",
    "`Langgraph Studio`\n",
    "- Integrated Development Evnironment (IDE) for Langgraph applications\n",
    "- Uses API as backend, allows realtime testing and exploration of graphs\n",
    "- Can be run locally, or with cloud-deployment\n",
    "\n",
    "`Langgraph SDK`\n",
    "- Python library for programmatically interacting with LangGraph graphs\n",
    "- Provides a consistent interface for working with graphs, whether served locally or in the cloud\n",
    "- Allows creation of clients, access to assistants, thread management, and execution of runs"
   ]
  },
  {
   "cell_type": "code",
   "execution_count": null,
   "metadata": {},
   "outputs": [],
   "source": []
  }
 ],
 "metadata": {
  "kernelspec": {
   "display_name": "langgraph_env",
   "language": "python",
   "name": "python3"
  },
  "language_info": {
   "name": "python",
   "version": "3.11.0"
  }
 },
 "nbformat": 4,
 "nbformat_minor": 2
}
