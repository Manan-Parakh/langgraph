{
 "cells": [
  {
   "cell_type": "markdown",
   "metadata": {},
   "source": [
    "# Chatbot with Collection Schema"
   ]
  },
  {
   "cell_type": "code",
   "execution_count": 1,
   "metadata": {},
   "outputs": [],
   "source": [
    "import os\n",
    "from dotenv import load_dotenv\n",
    "load_dotenv()\n",
    "\n",
    "os.environ['OPENAI_API_KEY'] = os.getenv(\"OPENAI_API_KEY\")\n",
    "from langchain_openai import ChatOpenAI\n",
    "model = ChatOpenAI(model=\"gpt-4o\",temperature=0)"
   ]
  },
  {
   "cell_type": "markdown",
   "metadata": {},
   "source": [
    "## Defining a Collection Schema"
   ]
  },
  {
   "cell_type": "code",
   "execution_count": 2,
   "metadata": {},
   "outputs": [],
   "source": [
    "from pydantic import BaseModel, Field\n",
    "from typing import List\n",
    "\n",
    "class Memory(BaseModel):\n",
    "    content: str = Field('The main content of the memory. For example: \"User expressed interest in reading books\"')\n",
    "\n",
    "class MemoryCollection(BaseModel):\n",
    "    memories: List[Memory] = Field('A list of Memories about the user')"
   ]
  },
  {
   "cell_type": "markdown",
   "metadata": {},
   "source": [
    "### Using `with_structured_output`"
   ]
  },
  {
   "cell_type": "code",
   "execution_count": 8,
   "metadata": {},
   "outputs": [
    {
     "data": {
      "text/plain": [
       "MemoryCollection(memories=[Memory(content=\"User's name is Manan.\"), Memory(content='Manan likes to read books.')])"
      ]
     },
     "execution_count": 8,
     "metadata": {},
     "output_type": "execute_result"
    }
   ],
   "source": [
    "from langchain_core.messages import SystemMessage, HumanMessage\n",
    "\n",
    "structured_model = model.with_structured_output(MemoryCollection)\n",
    "\n",
    "# System Prompt\n",
    "system_message = \"\"\"You are a helpful assistant whose task is to store details about the user in the given format\"\"\"\n",
    "human_message = \"Hi! My name is Manan. I like to read books.\"\n",
    "response = structured_model.invoke([SystemMessage(content=system_message),HumanMessage(content=human_message)])\n",
    "response"
   ]
  },
  {
   "cell_type": "code",
   "execution_count": 15,
   "metadata": {},
   "outputs": [
    {
     "name": "stdout",
     "output_type": "stream",
     "text": [
      "{'content': \"User's name is Manan.\"}\n",
      "{'content': 'Manan likes to read books.'}\n"
     ]
    }
   ],
   "source": [
    "for r in response.memories:\n",
    "    print(r.model_dump())"
   ]
  },
  {
   "cell_type": "markdown",
   "metadata": {},
   "source": [
    "### Save all the memories to the store"
   ]
  },
  {
   "cell_type": "code",
   "execution_count": 17,
   "metadata": {},
   "outputs": [],
   "source": [
    "from langgraph.store.memory import InMemoryStore\n",
    "\n",
    "in_memory_store = InMemoryStore()\n",
    "\n",
    "user_id = \"1\"\n",
    "namespace_for_memory = (user_id,'memories')\n",
    "\n",
    "for i, memory in enumerate(response.memories):\n",
    "    key = f\"memory_{i}\"\n",
    "    value = memory.model_dump()\n",
    "    # Put the memory in the store \n",
    "    in_memory_store.put(namespace_for_memory, key, value)"
   ]
  },
  {
   "cell_type": "code",
   "execution_count": 21,
   "metadata": {},
   "outputs": [
    {
     "name": "stdout",
     "output_type": "stream",
     "text": [
      "--------------------------------------------------\n",
      "{'namespace': ['1', 'memories'], 'key': 'memory_0', 'value': {'content': \"User's name is Manan.\"}, 'created_at': '2025-06-29T20:35:58.911828+00:00', 'updated_at': '2025-06-29T20:35:58.911828+00:00', 'score': None}\n",
      "--------------------------------------------------\n",
      "{'namespace': ['1', 'memories'], 'key': 'memory_1', 'value': {'content': 'Manan likes to read books.'}, 'created_at': '2025-06-29T20:35:58.911828+00:00', 'updated_at': '2025-06-29T20:35:58.911828+00:00', 'score': None}\n"
     ]
    }
   ],
   "source": [
    "for memory in in_memory_store.search(namespace_for_memory):\n",
    "    print(\"-\"*50)\n",
    "    print(memory.dict())"
   ]
  },
  {
   "cell_type": "markdown",
   "metadata": {},
   "source": [
    "## Updating Collection Schema\n",
    "- Problems: We want to be able to add as well as modify existing memories\n",
    "- Solution: Trustcall\n",
    "\n",
    "* We provide the schema for each memory: `Memory`\n",
    "* We can supply `enable_inserts = True` to allow the extractor to insert new memories to the collection"
   ]
  },
  {
   "cell_type": "code",
   "execution_count": 4,
   "metadata": {},
   "outputs": [],
   "source": [
    "os.environ['LANGSMITH_TRACING'] = 'false'\n",
    "from trustcall import create_extractor\n",
    "\n",
    "trustcall_extractor = create_extractor(model,\n",
    "                                       tools = [Memory],\n",
    "                                       tool_choice='Memory',\n",
    "                                       enable_inserts=True)"
   ]
  },
  {
   "cell_type": "code",
   "execution_count": 5,
   "metadata": {},
   "outputs": [
    {
     "name": "stdout",
     "output_type": "stream",
     "text": [
      "LangSmith tracing is off\n"
     ]
    }
   ],
   "source": [
    "print(\"LangSmith tracing is\", \"on\" if os.environ.get(\"LANGSMITH_TRACING\", \"\").lower() == \"true\" else \"off\")"
   ]
  },
  {
   "cell_type": "code",
   "execution_count": 12,
   "metadata": {},
   "outputs": [
    {
     "data": {
      "text/plain": [
       "{'messages': [AIMessage(content='', additional_kwargs={'tool_calls': [{'id': 'call_fvATKGZGh8vsPjwGGK6Oobh7', 'function': {'arguments': '{\"content\":\"Manan has completed more than 80 percent of the langgraph course.\"}', 'name': 'Memory'}, 'type': 'function'}], 'refusal': None}, response_metadata={'token_usage': {'completion_tokens': 19, 'prompt_tokens': 116, 'total_tokens': 135, 'completion_tokens_details': {'accepted_prediction_tokens': 0, 'audio_tokens': 0, 'reasoning_tokens': 0, 'rejected_prediction_tokens': 0}, 'prompt_tokens_details': {'audio_tokens': 0, 'cached_tokens': 0}}, 'model_name': 'gpt-4o-2024-08-06', 'system_fingerprint': 'fp_07871e2ad8', 'finish_reason': 'stop', 'logprobs': None}, id='run-0b7f8693-4f6a-463f-8991-65a297b60780-0', tool_calls=[{'name': 'Memory', 'args': {'content': 'Manan has completed more than 80 percent of the langgraph course.'}, 'id': 'call_fvATKGZGh8vsPjwGGK6Oobh7', 'type': 'tool_call'}], usage_metadata={'input_tokens': 116, 'output_tokens': 19, 'total_tokens': 135})],\n",
       " 'responses': [Memory(content='Manan has completed more than 80 percent of the langgraph course.')],\n",
       " 'response_metadata': [{'id': 'call_fvATKGZGh8vsPjwGGK6Oobh7'}],\n",
       " 'attempts': 1}"
      ]
     },
     "execution_count": 12,
     "metadata": {},
     "output_type": "execute_result"
    }
   ],
   "source": [
    "from langchain_core.messages import HumanMessage, SystemMessage, AIMessage\n",
    "\n",
    "# Instruction\n",
    "instruction = \"\"\"Extract memories from the following conversation:\"\"\"\n",
    "\n",
    "# Conversation\n",
    "conversation = [HumanMessage(content=\"Hi, I'm Manan.\"), \n",
    "                AIMessage(content=\"Nice to meet you, Manan.\"), \n",
    "                HumanMessage(content=\"I have finished more than 80 percent of the langgraph course!\")]\n",
    "\n",
    "# Invoke the extractor\n",
    "result = trustcall_extractor.invoke({\"messages\": [SystemMessage(content=instruction)] + conversation})\n",
    "result"
   ]
  },
  {
   "cell_type": "code",
   "execution_count": 15,
   "metadata": {},
   "outputs": [
    {
     "name": "stdout",
     "output_type": "stream",
     "text": [
      "==================================\u001b[1m Ai Message \u001b[0m==================================\n",
      "Tool Calls:\n",
      "  Memory (call_fvATKGZGh8vsPjwGGK6Oobh7)\n",
      " Call ID: call_fvATKGZGh8vsPjwGGK6Oobh7\n",
      "  Args:\n",
      "    content: Manan has completed more than 80 percent of the langgraph course.\n"
     ]
    }
   ],
   "source": [
    "result['messages'][0].pretty_print()"
   ]
  },
  {
   "cell_type": "code",
   "execution_count": 16,
   "metadata": {},
   "outputs": [
    {
     "data": {
      "text/plain": [
       "[Memory(content='Manan has completed more than 80 percent of the langgraph course.')]"
      ]
     },
     "execution_count": 16,
     "metadata": {},
     "output_type": "execute_result"
    }
   ],
   "source": [
    "result['responses']"
   ]
  },
  {
   "cell_type": "code",
   "execution_count": 17,
   "metadata": {},
   "outputs": [
    {
     "data": {
      "text/plain": [
       "[('0',\n",
       "  'Memory',\n",
       "  {'content': 'Manan has completed more than 80 percent of the langgraph course.'})]"
      ]
     },
     "execution_count": 17,
     "metadata": {},
     "output_type": "execute_result"
    }
   ],
   "source": [
    "# Update the conversation\n",
    "updated_conversation = [AIMessage(content=\"That's great, did you enjoy that?\"), \n",
    "                        HumanMessage(content=\"Yes! I built a working Agentic RAG flow using Langgraph. Made good projects while learning itself!\"),                        \n",
    "                        AIMessage(content=\"What else is on your mind?\"),\n",
    "                        HumanMessage(content=\"I am planning to learn Ambient Agents after this!\"),]\n",
    "\n",
    "# Update the instruction\n",
    "system_message = \"Update existing memories and create new ones based on the following conversation\"\n",
    "\n",
    "# Providing the existing memories with ID, key (tool name) and value\n",
    "tool_name = 'Memory'\n",
    "existing_memories = [(str(i), tool_name, memory.model_dump()) for i, memory in enumerate(result['responses'])] if result['responses'] else None\n",
    "existing_memories"
   ]
  },
  {
   "cell_type": "code",
   "execution_count": 18,
   "metadata": {},
   "outputs": [
    {
     "data": {
      "text/plain": [
       "{'messages': [AIMessage(content='', additional_kwargs={'updated_docs': {'call_k5XW1YfsyGYRAmiVZNw929LR': '0'}}, id='0383e2bf-5c93-4f16-81a8-9a88b2a2f1ff', tool_calls=[{'name': 'Memory', 'args': {'content': 'Manan has completed more than 80 percent of the Langgraph course, enjoyed building a working Agentic RAG flow, made good projects while learning, and is planning to learn about Ambient Agents next.'}, 'id': 'call_k5XW1YfsyGYRAmiVZNw929LR', 'type': 'tool_call'}])],\n",
       " 'responses': [Memory(content='Manan has completed more than 80 percent of the Langgraph course, enjoyed building a working Agentic RAG flow, made good projects while learning, and is planning to learn about Ambient Agents next.')],\n",
       " 'response_metadata': [{'id': 'call_k5XW1YfsyGYRAmiVZNw929LR',\n",
       "   'json_doc_id': '0'}],\n",
       " 'attempts': 1}"
      ]
     },
     "execution_count": 18,
     "metadata": {},
     "output_type": "execute_result"
    }
   ],
   "source": [
    "# Invoke the extractor with updated_conversation and existing_memories\n",
    "result = trustcall_extractor.invoke({'messages':updated_conversation, 'existing': existing_memories})\n",
    "result"
   ]
  },
  {
   "cell_type": "code",
   "execution_count": 21,
   "metadata": {},
   "outputs": [
    {
     "name": "stdout",
     "output_type": "stream",
     "text": [
      "==================================\u001b[1m Ai Message \u001b[0m==================================\n",
      "Tool Calls:\n",
      "  Memory (call_k5XW1YfsyGYRAmiVZNw929LR)\n",
      " Call ID: call_k5XW1YfsyGYRAmiVZNw929LR\n",
      "  Args:\n",
      "    content: Manan has completed more than 80 percent of the Langgraph course, enjoyed building a working Agentic RAG flow, made good projects while learning, and is planning to learn about Ambient Agents next.\n"
     ]
    }
   ],
   "source": [
    "result['messages'][0].pretty_print()"
   ]
  },
  {
   "cell_type": "code",
   "execution_count": 24,
   "metadata": {},
   "outputs": [
    {
     "data": {
      "text/plain": [
       "[{'id': 'call_k5XW1YfsyGYRAmiVZNw929LR', 'json_doc_id': '0'}]"
      ]
     },
     "execution_count": 24,
     "metadata": {},
     "output_type": "execute_result"
    }
   ],
   "source": [
    "result['response_metadata']\n",
    "# It contains the json_doc_id which it is planning to edit! -> Editing an existing memory"
   ]
  },
  {
   "cell_type": "code",
   "execution_count": 25,
   "metadata": {},
   "outputs": [
    {
     "data": {
      "text/plain": [
       "[Memory(content='Manan has completed more than 80 percent of the Langgraph course, enjoyed building a working Agentic RAG flow, made good projects while learning, and is planning to learn about Ambient Agents next.')]"
      ]
     },
     "execution_count": 25,
     "metadata": {},
     "output_type": "execute_result"
    }
   ],
   "source": [
    "result['responses']"
   ]
  },
  {
   "cell_type": "markdown",
   "metadata": {},
   "source": [
    "## Chatbot with Collection Schema Updating"
   ]
  },
  {
   "cell_type": "code",
   "execution_count": 32,
   "metadata": {},
   "outputs": [
    {
     "data": {
      "text/plain": [
       "\"The user's name is Manan\""
      ]
     },
     "execution_count": 32,
     "metadata": {},
     "output_type": "execute_result"
    }
   ],
   "source": [
    "memory = Memory(content=\"The user's name is Manan\")\n",
    "memory.content"
   ]
  },
  {
   "cell_type": "code",
   "execution_count": 38,
   "metadata": {},
   "outputs": [
    {
     "data": {
      "image/jpeg": "[encoded data removed]",
      "text/plain": [
       "<IPython.core.display.Image object>"
      ]
     },
     "metadata": {},
     "output_type": "display_data"
    }
   ],
   "source": [
    "from IPython.display import display, Image\n",
    "from langgraph.graph import START,END,StateGraph\n",
    "from langgraph.graph.message import MessagesState\n",
    "from langgraph.checkpoint.memory import MemorySaver\n",
    "from langgraph.store.memory import InMemoryStore, BaseStore\n",
    "from langchain_core.runnables import RunnableConfig\n",
    "from uuid import uuid4\n",
    "\n",
    "# Define the Collection Schema\n",
    "class Memory(BaseModel):\n",
    "    content: str = Field(description=\"The main content of the memory. For example: 'The user likes to read books and code!'\")\n",
    "\n",
    "# Trustcall create_extractor\n",
    "trustcall_extractor = create_extractor(model,\n",
    "                                       tools = [Memory],\n",
    "                                       tool_choice='Memory',\n",
    "                                       enable_inserts=True)\n",
    "\n",
    "# Define the first node that is a simple chatbot responding to user based on the memory \n",
    "MODEL_SYSTEM_MESSAGE = \"\"\"You are a helpful chatbot. \n",
    "You have a long term memory which keeps track of information you learn about the user over time.\n",
    "Current Memory (may include updated memories from this conversation): \n",
    "{memory}\"\"\"\n",
    "\n",
    "def call_model(state: MessagesState, config: RunnableConfig, store: BaseStore):\n",
    "    \"\"\"Load the memory and chat with the user\"\"\"\n",
    "\n",
    "    # Get the user ID from the config\n",
    "    user_id = config[\"configurable\"][\"user_id\"]\n",
    "\n",
    "    # Retrieve memory from the store\n",
    "    namespace = (\"memories\", user_id)\n",
    "    memories = store.search(namespace)\n",
    "\n",
    "    # Based on the memory structure, format it to make it prompt friendly\n",
    "    info = \"\\n\".join(f\"-{mem.value['content']}\" for mem in memories)\n",
    "    system_message = MODEL_SYSTEM_MESSAGE.format(memory = info)\n",
    "\n",
    "    # Respond using memory as well as the chat history\n",
    "    response = model.invoke([SystemMessage(content=system_message)]+state[\"messages\"])\n",
    "\n",
    "    return {\"messages\": response}\n",
    "\n",
    "# Node 2 to update the memory based on updated_conversation\n",
    "# Trustcall instruction\n",
    "TRUSTCALL_INSTRUCTION = \"\"\"Reflect on following interaction. \n",
    "Use the provided tools to retain any necessary memories about the user. \n",
    "Use parallel tool calling to handle updates and insertions simultaneously:\"\"\"\n",
    "\n",
    "def write_memory(state: MessagesState, config: RunnableConfig, store: BaseStore):\n",
    "\n",
    "    # Get the user ID from the config\n",
    "    user_id = config[\"configurable\"][\"user_id\"]\n",
    "\n",
    "    # Retrieve memory from the store\n",
    "    namespace = (\"memories\", user_id)\n",
    "    existing_items = store.search(namespace)\n",
    "\n",
    "    # Existing memories must be in the form: ID, key(Tool Name), value\n",
    "    tool_name = 'Memory'\n",
    "    existing_memories = [(existing_item.key, tool_name, existing_item.value) for existing_item in existing_items] if existing_items else None\n",
    "\n",
    "    result = trustcall_extractor.invoke({'messages': [SystemMessage(content=system_message)] + state['messages'],\n",
    "                                'existing': existing_memories})\n",
    "    \n",
    "    # Save the memories to the store\n",
    "    for r, rmeta in zip(result['responses'], result['response_metadata']):\n",
    "        store.put(namespace,\n",
    "                  rmeta.get('json_doc_id',uuid4()),\n",
    "                  r.model_dump(mode=\"json\"))\n",
    "\n",
    "# Define the graph\n",
    "builder = StateGraph(MessagesState)\n",
    "builder.add_node(\"call_model\", call_model)\n",
    "builder.add_node(\"write_memory\", write_memory)\n",
    "builder.add_edge(START, \"call_model\")\n",
    "builder.add_edge(\"call_model\", \"write_memory\")\n",
    "builder.add_edge(\"write_memory\", END)\n",
    "\n",
    "# Store for long-term (across-thread) memory\n",
    "across_thread_memory = InMemoryStore()\n",
    "\n",
    "# Checkpointer for short-term (within-thread) memory\n",
    "within_thread_memory = MemorySaver()\n",
    "\n",
    "# Compile the graph with the checkpointer fir and store\n",
    "graph = builder.compile(checkpointer=within_thread_memory, store=across_thread_memory)\n",
    "\n",
    "# View\n",
    "display(Image(graph.get_graph(xray=1).draw_mermaid_png()))"
   ]
  },
  {
   "cell_type": "code",
   "execution_count": 49,
   "metadata": {},
   "outputs": [
    {
     "name": "stdout",
     "output_type": "stream",
     "text": [
      "================================\u001b[1m Human Message \u001b[0m=================================\n",
      "\n",
      "Hi, my name is Manan\n",
      "==================================\u001b[1m Ai Message \u001b[0m==================================\n",
      "\n",
      "Hello, Manan! How can I assist you today?\n"
     ]
    }
   ],
   "source": [
    "# We supply a thread ID for short-term (within-thread) memory\n",
    "# We supply a user ID for long-term (across-thread) memory \n",
    "config = {\"configurable\": {\"thread_id\": \"2\", \"user_id\": \"3\"}}\n",
    "\n",
    "# User input \n",
    "input_messages = [HumanMessage(content=\"Hi, my name is Manan\")]\n",
    "\n",
    "# Run the graph\n",
    "for chunk in graph.stream({\"messages\": input_messages}, config, stream_mode=\"values\"):\n",
    "    chunk[\"messages\"][-1].pretty_print()"
   ]
  },
  {
   "cell_type": "code",
   "execution_count": 50,
   "metadata": {},
   "outputs": [
    {
     "name": "stdout",
     "output_type": "stream",
     "text": [
      "================================\u001b[1m Human Message \u001b[0m=================================\n",
      "\n",
      "I like to read books and code!\n",
      "==================================\u001b[1m Ai Message \u001b[0m==================================\n",
      "\n",
      "That's great, Manan! Reading and coding are both excellent hobbies. Do you have any favorite books or coding projects you're working on?\n"
     ]
    }
   ],
   "source": [
    "# User input \n",
    "input_messages = [HumanMessage(content=\"I like to read books and code!\")]\n",
    "\n",
    "# Run the graph\n",
    "for chunk in graph.stream({\"messages\": input_messages}, config, stream_mode=\"values\"):\n",
    "    chunk[\"messages\"][-1].pretty_print()"
   ]
  },
  {
   "cell_type": "code",
   "execution_count": 52,
   "metadata": {},
   "outputs": [
    {
     "name": "stdout",
     "output_type": "stream",
     "text": [
      "{'namespace': ['memories', '3'], 'key': '782dbb72-8602-467d-ad72-da8f6f20b9b2', 'value': {'content': \"The user's full name is Manan Parakh. Manan likes to read books and code.\"}, 'created_at': '2025-06-30T01:53:08.230191+00:00', 'updated_at': '2025-06-30T01:53:08.230191+00:00', 'score': None}\n"
     ]
    }
   ],
   "source": [
    "# Namespace for the memory to save\n",
    "user_id = \"3\"\n",
    "namespace = (\"memories\", user_id)\n",
    "memories = across_thread_memory.search(namespace)\n",
    "for m in memories:\n",
    "    print(m.dict())"
   ]
  },
  {
   "cell_type": "code",
   "execution_count": 53,
   "metadata": {},
   "outputs": [
    {
     "name": "stdout",
     "output_type": "stream",
     "text": [
      "================================\u001b[1m Human Message \u001b[0m=================================\n",
      "\n",
      "I live in India!\n",
      "==================================\u001b[1m Ai Message \u001b[0m==================================\n",
      "\n",
      "Thanks for sharing, Manan! Living in India must be fascinating with its rich culture and history. Is there anything specific about India that you particularly enjoy or find inspiring?\n"
     ]
    }
   ],
   "source": [
    "# User input \n",
    "input_messages = [HumanMessage(content=\"I live in India!\")]\n",
    "\n",
    "# Run the graph\n",
    "for chunk in graph.stream({\"messages\": input_messages}, config, stream_mode=\"values\"):\n",
    "    chunk[\"messages\"][-1].pretty_print()"
   ]
  },
  {
   "cell_type": "code",
   "execution_count": 54,
   "metadata": {},
   "outputs": [
    {
     "name": "stdout",
     "output_type": "stream",
     "text": [
      "{'namespace': ['memories', '3'], 'key': '782dbb72-8602-467d-ad72-da8f6f20b9b2', 'value': {'content': \"The user's full name is Manan Parakh. Manan likes to read books and code. Manan lives in India.\"}, 'created_at': '2025-06-30T01:54:40.281512+00:00', 'updated_at': '2025-06-30T01:54:40.281512+00:00', 'score': None}\n",
      "{'namespace': ['memories', '3'], 'key': '085599d8-7104-4098-a1b0-ac68d424e8d9', 'value': {'content': 'Manan lives in India.'}, 'created_at': '2025-06-30T01:54:40.281512+00:00', 'updated_at': '2025-06-30T01:54:40.281512+00:00', 'score': None}\n"
     ]
    }
   ],
   "source": [
    "# Namespace for the memory to save\n",
    "user_id = \"3\"\n",
    "namespace = (\"memories\", user_id)\n",
    "memories = across_thread_memory.search(namespace)\n",
    "for m in memories:\n",
    "    print(m.dict())"
   ]
  },
  {
   "cell_type": "code",
   "execution_count": 55,
   "metadata": {},
   "outputs": [
    {
     "name": "stdout",
     "output_type": "stream",
     "text": [
      "================================\u001b[1m Human Message \u001b[0m=================================\n",
      "\n",
      "I live in Rajnandgaon, Chhattisgarh, India!\n",
      "==================================\u001b[1m Ai Message \u001b[0m==================================\n",
      "\n",
      "Rajnandgaon sounds like an interesting place! Chhattisgarh is known for its natural beauty and cultural heritage. Is there anything specific you enjoy about living in Rajnandgaon?\n"
     ]
    }
   ],
   "source": [
    "# User input \n",
    "input_messages = [HumanMessage(content=\"I live in Rajnandgaon, Chhattisgarh, India!\")]\n",
    "\n",
    "# Run the graph\n",
    "for chunk in graph.stream({\"messages\": input_messages}, config, stream_mode=\"values\"):\n",
    "    chunk[\"messages\"][-1].pretty_print()"
   ]
  },
  {
   "cell_type": "code",
   "execution_count": 56,
   "metadata": {},
   "outputs": [
    {
     "name": "stdout",
     "output_type": "stream",
     "text": [
      "{'namespace': ['memories', '3'], 'key': '782dbb72-8602-467d-ad72-da8f6f20b9b2', 'value': {'content': \"The user's full name is Manan Parakh. Manan likes to read books and code. Manan lives in Rajnandgaon, Chhattisgarh, India.\"}, 'created_at': '2025-06-30T01:55:13.020163+00:00', 'updated_at': '2025-06-30T01:55:13.020163+00:00', 'score': None}\n",
      "{'namespace': ['memories', '3'], 'key': '085599d8-7104-4098-a1b0-ac68d424e8d9', 'value': {'content': 'Manan lives in Rajnandgaon, Chhattisgarh, India.'}, 'created_at': '2025-06-30T01:55:13.020163+00:00', 'updated_at': '2025-06-30T01:55:13.020163+00:00', 'score': None}\n"
     ]
    }
   ],
   "source": [
    "# Namespace for the memory to save\n",
    "user_id = \"3\"\n",
    "namespace = (\"memories\", user_id)\n",
    "memories = across_thread_memory.search(namespace)\n",
    "for m in memories:\n",
    "    print(m.dict())"
   ]
  },
  {
   "cell_type": "code",
   "execution_count": null,
   "metadata": {},
   "outputs": [],
   "source": []
  }
 ],
 "metadata": {
  "kernelspec": {
   "display_name": "langgraph_env",
   "language": "python",
   "name": "python3"
  },
  "language_info": {
   "codemirror_mode": {
    "name": "ipython",
    "version": 3
   },
   "file_extension": ".py",
   "mimetype": "text/x-python",
   "name": "python",
   "nbconvert_exporter": "python",
   "pygments_lexer": "ipython3",
   "version": "3.11.0"
  }
 },
 "nbformat": 4,
 "nbformat_minor": 2
}
