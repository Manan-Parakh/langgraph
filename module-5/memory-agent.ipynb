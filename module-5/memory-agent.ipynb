{
 "cells": [
  {
   "cell_type": "markdown",
   "metadata": {},
   "source": [
    "# Memory Agent\n",
    "- Until now, the agents we built,\n",
    "    * saved all the information\n",
    "    * saved either to a **profile** schema or to a **collection** schema"
   ]
  },
  {
   "cell_type": "markdown",
   "metadata": {},
   "source": [
    "# AI Task Manager\n",
    "\n",
    "- Now, we will build a chatbot that,\n",
    "    * decides when to save something in the long-term memory\n",
    "    * decides whether to store the information in the **user_profile** schema or in the **to_do_collection** schema\n",
    "- That mean, our agent will have **semantic** as well as **procedural** memory"
   ]
  },
  {
   "cell_type": "code",
   "execution_count": 1,
   "metadata": {},
   "outputs": [],
   "source": [
    "import os\n",
    "from dotenv import load_dotenv\n",
    "load_dotenv()\n",
    "\n",
    "os.environ['OPENAI_API_KEY'] = os.getenv(\"OPENAI_API_KEY\")\n",
    "from langchain_openai import ChatOpenAI\n",
    "model = ChatOpenAI(model=\"gpt-4o\",temperature=0)"
   ]
  },
  {
   "cell_type": "markdown",
   "metadata": {},
   "source": [
    "## Visibility into Trustcall Updates"
   ]
  },
  {
   "cell_type": "code",
   "execution_count": 2,
   "metadata": {},
   "outputs": [],
   "source": [
    "from pydantic import BaseModel, Field\n",
    "\n",
    "class Memory(BaseModel):\n",
    "    content: str = Field(description=\"The main content of the memory. For example: User expressed interest in learning about French.\")\n",
    "\n",
    "class MemoryCollection(BaseModel):\n",
    "    memories: list[Memory] = Field(description=\"A list of memories about the user.\")"
   ]
  },
  {
   "cell_type": "markdown",
   "metadata": {},
   "source": [
    "### Adding a `listener` to the Trustcall extractor\n",
    "- This will pass runs from the extractor's execution to a class, `Spy` that we will define\n",
    "- Our spy class will extract information about what tool calls were made by Trustcall"
   ]
  },
  {
   "cell_type": "code",
   "execution_count": 3,
   "metadata": {},
   "outputs": [],
   "source": [
    "os.environ['LANGSMITH_TRACING'] = 'false'\n",
    "from trustcall import create_extractor\n",
    "\n",
    "# Inspect the tool_calls made by Trustcall\n",
    "class Spy:\n",
    "    def __init__(self):\n",
    "        self.called_tools = []\n",
    "    \n",
    "    def __call__(self,run):\n",
    "        # Collect information about the tool calls made by the extractor.\n",
    "        q = [run]\n",
    "        while q:\n",
    "            r = q.pop()\n",
    "            if r.child_runs:\n",
    "                q.extend(r.child_runs)\n",
    "            if r.run_type == \"chat_model\":\n",
    "                self.called_tools.append(\n",
    "                    r.outputs['generations'][0][0]['message']['kwargs']['tool_calls']\n",
    "                )\n",
    "# Initilaize the spy\n",
    "spy =Spy()\n",
    "\n",
    "# Create the extractor\n",
    "trustcall_extractor = create_extractor(\n",
    "    model,\n",
    "    tools=[Memory],\n",
    "    tool_choice=\"Memory\",\n",
    "    enable_inserts=True,\n",
    ")\n",
    "\n",
    "# Add the spy as a listener\n",
    "trustcall_extractor_see_all_tool_calls = trustcall_extractor.with_listeners(on_end=spy)"
   ]
  },
  {
   "cell_type": "code",
   "execution_count": 4,
   "metadata": {},
   "outputs": [
    {
     "data": {
      "text/plain": [
       "RunnableBinding(bound=RunnableLambda(coerce_inputs)\n",
       "| <langgraph.graph.state.CompiledStateGraph object at 0x000001BB798B3F10>\n",
       "| RunnableLambda(filter_state), config_factories=[<function Runnable.with_listeners.<locals>.<lambda> at 0x000001BB77B95260>])"
      ]
     },
     "execution_count": 4,
     "metadata": {},
     "output_type": "execute_result"
    }
   ],
   "source": [
    "trustcall_extractor_see_all_tool_calls"
   ]
  },
  {
   "cell_type": "code",
   "execution_count": 5,
   "metadata": {},
   "outputs": [
    {
     "data": {
      "text/plain": [
       "{'messages': [AIMessage(content='', additional_kwargs={'tool_calls': [{'id': 'call_Kj2z2HPjDUUkKXTUB6Wip2Aa', 'function': {'arguments': '{\"content\":\"Manan had a nice bike ride in San Francisco this morning.\"}', 'name': 'Memory'}, 'type': 'function'}], 'refusal': None}, response_metadata={'token_usage': {'completion_tokens': 17, 'prompt_tokens': 110, 'total_tokens': 127, 'completion_tokens_details': {'accepted_prediction_tokens': 0, 'audio_tokens': 0, 'reasoning_tokens': 0, 'rejected_prediction_tokens': 0}, 'prompt_tokens_details': {'audio_tokens': 0, 'cached_tokens': 0}}, 'model_name': 'gpt-4o-2024-08-06', 'system_fingerprint': 'fp_07871e2ad8', 'finish_reason': 'stop', 'logprobs': None}, id='run-43dae252-b347-4f40-a6a8-6952543b0ea6-0', tool_calls=[{'name': 'Memory', 'args': {'content': 'Manan had a nice bike ride in San Francisco this morning.'}, 'id': 'call_Kj2z2HPjDUUkKXTUB6Wip2Aa', 'type': 'tool_call'}], usage_metadata={'input_tokens': 110, 'output_tokens': 17, 'total_tokens': 127})],\n",
       " 'responses': [Memory(content='Manan had a nice bike ride in San Francisco this morning.')],\n",
       " 'response_metadata': [{'id': 'call_Kj2z2HPjDUUkKXTUB6Wip2Aa'}],\n",
       " 'attempts': 1}"
      ]
     },
     "execution_count": 5,
     "metadata": {},
     "output_type": "execute_result"
    }
   ],
   "source": [
    "from langchain_core.messages import HumanMessage, SystemMessage, AIMessage\n",
    "\n",
    "# Instruction\n",
    "instruction = \"\"\"Extract memories from the following conversation:\"\"\"\n",
    "\n",
    "# Conversation\n",
    "conversation = [HumanMessage(content=\"Hi, I'm Manan.\"), \n",
    "                AIMessage(content=\"Nice to meet you, Manan.\"), \n",
    "                HumanMessage(content=\"This morning I had a nice bike ride in San Francisco.\")]\n",
    "\n",
    "# Invoke the extractor\n",
    "result = trustcall_extractor.invoke({\"messages\": [SystemMessage(content=instruction)] + conversation})\n",
    "result"
   ]
  },
  {
   "cell_type": "code",
   "execution_count": 6,
   "metadata": {},
   "outputs": [
    {
     "data": {
      "text/plain": [
       "[('0',\n",
       "  'Memory',\n",
       "  {'content': 'Manan had a nice bike ride in San Francisco this morning.'})]"
      ]
     },
     "execution_count": 6,
     "metadata": {},
     "output_type": "execute_result"
    }
   ],
   "source": [
    "# Update the conversation\n",
    "updated_conversation = [AIMessage(content=\"That's great, did you do after?\"), \n",
    "                        HumanMessage(content=\"I went to Tartine and ate a croissant.\"),                        \n",
    "                        AIMessage(content=\"What else is on your mind?\"),\n",
    "                        HumanMessage(content=\"I was thinking about my Japan, and going back this winter!\"),]\n",
    "\n",
    "# Update the instruction\n",
    "system_msg = \"\"\"Update existing memories and create new ones based on the following conversation:\"\"\"\n",
    "\n",
    "# We'll save existing memories, giving them an ID, key (tool name), and value\n",
    "tool_name = \"Memory\"\n",
    "existing_memories = [(str(i), tool_name, memory.model_dump()) for i, memory in enumerate(result[\"responses\"])] if result[\"responses\"] else None\n",
    "existing_memories"
   ]
  },
  {
   "cell_type": "code",
   "execution_count": 7,
   "metadata": {},
   "outputs": [
    {
     "data": {
      "text/plain": [
       "{'messages': [AIMessage(content='', additional_kwargs={'updated_docs': {'call_OI4wMesVOscn7gf1DF6UNfPc': '0'}}, id='1282a927-69ab-4d71-8298-1544e543b2ac', tool_calls=[{'name': 'Memory', 'args': {'content': 'Manan had a nice bike ride in San Francisco this morning. After the ride, he went to Tartine and ate a croissant.'}, 'id': 'call_OI4wMesVOscn7gf1DF6UNfPc', 'type': 'tool_call'}, {'name': 'Memory', 'args': {'content': 'Manan was thinking about his trip to Japan and considering going back this winter.'}, 'id': 'call_srwKdFA6bio5Egr1UkH0XOLM', 'type': 'tool_call'}])],\n",
       " 'responses': [Memory(content='Manan had a nice bike ride in San Francisco this morning. After the ride, he went to Tartine and ate a croissant.'),\n",
       "  Memory(content='Manan was thinking about his trip to Japan and considering going back this winter.')],\n",
       " 'response_metadata': [{'id': 'call_OI4wMesVOscn7gf1DF6UNfPc',\n",
       "   'json_doc_id': '0'},\n",
       "  {'id': 'call_srwKdFA6bio5Egr1UkH0XOLM'}],\n",
       " 'attempts': 1}"
      ]
     },
     "execution_count": 7,
     "metadata": {},
     "output_type": "execute_result"
    }
   ],
   "source": [
    "# Invoke the extractor with our updated conversation and existing memories\n",
    "result = trustcall_extractor_see_all_tool_calls.invoke({\"messages\": updated_conversation, \n",
    "                                                        \"existing\": existing_memories})\n",
    "result"
   ]
  },
  {
   "cell_type": "code",
   "execution_count": 8,
   "metadata": {},
   "outputs": [
    {
     "name": "stdout",
     "output_type": "stream",
     "text": [
      "{'id': 'call_OI4wMesVOscn7gf1DF6UNfPc', 'json_doc_id': '0'}\n",
      "{'id': 'call_srwKdFA6bio5Egr1UkH0XOLM'}\n"
     ]
    }
   ],
   "source": [
    "# Metadata contains the tool call  \n",
    "for m in result[\"response_metadata\"]: \n",
    "    print(m)"
   ]
  },
  {
   "cell_type": "code",
   "execution_count": 9,
   "metadata": {},
   "outputs": [
    {
     "name": "stdout",
     "output_type": "stream",
     "text": [
      "==================================\u001b[1m Ai Message \u001b[0m==================================\n",
      "Tool Calls:\n",
      "  Memory (call_OI4wMesVOscn7gf1DF6UNfPc)\n",
      " Call ID: call_OI4wMesVOscn7gf1DF6UNfPc\n",
      "  Args:\n",
      "    content: Manan had a nice bike ride in San Francisco this morning. After the ride, he went to Tartine and ate a croissant.\n",
      "  Memory (call_srwKdFA6bio5Egr1UkH0XOLM)\n",
      " Call ID: call_srwKdFA6bio5Egr1UkH0XOLM\n",
      "  Args:\n",
      "    content: Manan was thinking about his trip to Japan and considering going back this winter.\n"
     ]
    }
   ],
   "source": [
    "# Messages contain the tool calls\n",
    "for m in result[\"messages\"]:\n",
    "    m.pretty_print()"
   ]
  },
  {
   "cell_type": "code",
   "execution_count": 10,
   "metadata": {},
   "outputs": [
    {
     "name": "stdout",
     "output_type": "stream",
     "text": [
      "content='Manan had a nice bike ride in San Francisco this morning. After the ride, he went to Tartine and ate a croissant.'\n",
      "content='Manan was thinking about his trip to Japan and considering going back this winter.'\n"
     ]
    }
   ],
   "source": [
    "# Parsed responses\n",
    "for m in result[\"responses\"]:\n",
    "    print(m)"
   ]
  },
  {
   "cell_type": "code",
   "execution_count": 11,
   "metadata": {},
   "outputs": [
    {
     "data": {
      "text/plain": [
       "[[{'name': 'PatchDoc',\n",
       "   'args': {'json_doc_id': '0',\n",
       "    'planned_edits': 'Add the new memory about going to Tartine and eating a croissant after the bike ride. This involves appending a new sentence to the existing content field in the Memory schema.',\n",
       "    'patches': [{'op': 'replace',\n",
       "      'path': '/content',\n",
       "      'value': 'Manan had a nice bike ride in San Francisco this morning. After the ride, he went to Tartine and ate a croissant.'}]},\n",
       "   'id': 'call_OI4wMesVOscn7gf1DF6UNfPc',\n",
       "   'type': 'tool_call'},\n",
       "  {'name': 'Memory',\n",
       "   'args': {'content': 'Manan was thinking about his trip to Japan and considering going back this winter.'},\n",
       "   'id': 'call_srwKdFA6bio5Egr1UkH0XOLM',\n",
       "   'type': 'tool_call'}]]"
      ]
     },
     "execution_count": 11,
     "metadata": {},
     "output_type": "execute_result"
    }
   ],
   "source": [
    "# Inspect the tool calls made by Trustcall\n",
    "spy.called_tools"
   ]
  },
  {
   "cell_type": "code",
   "execution_count": 12,
   "metadata": {},
   "outputs": [
    {
     "name": "stdout",
     "output_type": "stream",
     "text": [
      "Document 0 updated:\n",
      "Plan: Add the new memory about going to Tartine and eating a croissant after the bike ride. This involves appending a new sentence to the existing content field in the Memory schema.\n",
      "Added content: Manan had a nice bike ride in San Francisco this morning. After the ride, he went to Tartine and ate a croissant.\n",
      "\n",
      "New Memory created:\n",
      "Content: {'content': 'Manan was thinking about his trip to Japan and considering going back this winter.'}\n"
     ]
    }
   ],
   "source": [
    "def extract_tool_info(tool_calls, schema_name=\"Memory\"):\n",
    "    \"\"\"Extract information from tool calls for both patches and new memories.\n",
    "    \n",
    "    Args:\n",
    "        tool_calls: List of tool calls from the model\n",
    "        schema_name: Name of the schema tool (e.g., \"Memory\", \"ToDo\", \"Profile\")\n",
    "    \"\"\"\n",
    "\n",
    "    # Initialize list of changes\n",
    "    changes = []\n",
    "    \n",
    "    for call_group in tool_calls:\n",
    "        for call in call_group:\n",
    "            if call['name'] == 'PatchDoc':\n",
    "                changes.append({\n",
    "                    'type': 'update',\n",
    "                    'doc_id': call['args']['json_doc_id'],\n",
    "                    'planned_edits': call['args']['planned_edits'],\n",
    "                    'value': call['args']['patches'][0]['value']\n",
    "                })\n",
    "            elif call['name'] == schema_name:\n",
    "                changes.append({\n",
    "                    'type': 'new',\n",
    "                    'value': call['args']\n",
    "                })\n",
    "\n",
    "    # Format results as a single string\n",
    "    result_parts = []\n",
    "    for change in changes:\n",
    "        if change['type'] == 'update':\n",
    "            result_parts.append(\n",
    "                f\"Document {change['doc_id']} updated:\\n\"\n",
    "                f\"Plan: {change['planned_edits']}\\n\"\n",
    "                f\"Added content: {change['value']}\"\n",
    "            )\n",
    "        else:\n",
    "            result_parts.append(\n",
    "                f\"New {schema_name} created:\\n\"\n",
    "                f\"Content: {change['value']}\"\n",
    "            )\n",
    "    \n",
    "    return \"\\n\\n\".join(result_parts)\n",
    "\n",
    "# Inspect spy.called_tools to see exactly what happened during the extraction\n",
    "schema_name = \"Memory\"\n",
    "changes = extract_tool_info(spy.called_tools, schema_name)\n",
    "print(changes)"
   ]
  },
  {
   "cell_type": "markdown",
   "metadata": {},
   "source": [
    "## Building an Agent\n",
    "- We will build a sort of `ReAct` agent.\n",
    "\n",
    "Our agent will have three types of memory:\n",
    "- `Profile`: Create or update a user profile\n",
    "- `Collection`: Add or Update elements to a To-Do List\n",
    "- `Instructions` about how to create/updates To-Do Elements "
   ]
  },
  {
   "cell_type": "code",
   "execution_count": 37,
   "metadata": {},
   "outputs": [],
   "source": [
    "# For structured output from the agent about which memory to update, let's create a class\n",
    "from typing import TypedDict, Literal\n",
    "\n",
    "class UpdateMemory(TypedDict):\n",
    "    \"\"\"Decision about which memory to update\"\"\"\n",
    "    update_type: Literal[\"user\", \"todo\", \"instructions\"]"
   ]
  },
  {
   "cell_type": "markdown",
   "metadata": {},
   "source": [
    "### Graph Definition\n",
    "- We use a `binary router` to decide whether to update/create memory or not\n",
    "- We deal with memory in the `write_memory` node like before"
   ]
  },
  {
   "cell_type": "code",
   "execution_count": 19,
   "metadata": {},
   "outputs": [],
   "source": [
    "# Defining the Profile and ToDo Schemas \n",
    "from pydantic import BaseModel, Field\n",
    "from typing import Optional, List, Literal\n",
    "from datetime import datetime\n",
    "\n",
    "class Profile(BaseModel):\n",
    "    \"\"\"\"User Profile schema\"\"\"\n",
    "    name: Optional[str] = Field(description=\"The name of the user\")\n",
    "    location: Optional[str] = Field(description=\"The location of the user\")\n",
    "    job_title: Optional[str] = Field(description=\"The job title of the user\")\n",
    "    # The default_factory=list means that if no value is provided for 'connections', it will default to an empty list.\n",
    "    connections: List[str] = Field(description=\"The list of connections of the user\", default_factory=list)\n",
    "    interests: List[str] = Field(description=\"The list of interests of the user\", default_factory=list)\n",
    "\n",
    "class ToDo(BaseModel):\n",
    "    \"\"\"A collection of To-Do items containing information about the task\"\"\"\n",
    "    task: str = Field(description=\"The task to be completed\")\n",
    "    time_to_complete: Optional[int] = Field(description=\"The time to complete the task\")\n",
    "    deadline: Optional[datetime] = Field(description=\"The deadline of the task\", default=None)\n",
    "    solutions: list[str] = Field(description=\"The solutions to the task\", min_items=1, default_factory=list)\n",
    "    status: Literal[\"not started\", \"in progress\", \"done\", \"archived\"] = Field(description=\"The status of the task\", default=\"not started\")"
   ]
  },
  {
   "cell_type": "markdown",
   "metadata": {},
   "source": [
    "### Master Node"
   ]
  },
  {
   "cell_type": "code",
   "execution_count": 64,
   "metadata": {},
   "outputs": [],
   "source": [
    "# This takes in the user input, profile, todo and instructions and decides whether and which tool to call\n",
    "from langgraph.graph import StateGraph, START, END\n",
    "from langgraph.graph.message import MessagesState\n",
    "from langgraph.store.memory import InMemoryStore, BaseStore\n",
    "from langgraph.checkpoint.memory import MemorySaver\n",
    "from langchain_core.runnables import RunnableConfig\n",
    "\n",
    "# Main Prompt\n",
    "MODEL_SYSTEM_MESSAGE = \"\"\"You are a helpful chatbot. \n",
    "\n",
    "You are designed to be a companion to a user, helping them keep track of their ToDo list.\n",
    "\n",
    "You have a long term memory which keeps track of three things:\n",
    "1. The user's profile (general information about them) \n",
    "2. The user's ToDo list\n",
    "3. General instructions for updating the ToDo list\n",
    "\n",
    "Here is the current User Profile (may be empty if no information has been collected yet):\n",
    "<user_profile>\n",
    "{user_profile}\n",
    "</user_profile>\n",
    "\n",
    "Here is the current ToDo List (may be empty if no tasks have been added yet):\n",
    "<todo>\n",
    "{todo}\n",
    "</todo>\n",
    "\n",
    "Here are the current user-specified preferences for updating the ToDo list (may be empty if no preferences have been specified yet):\n",
    "<instructions>\n",
    "{instructions}\n",
    "</instructions>\n",
    "\n",
    "Here are your instructions for reasoning about the user's messages:\n",
    "\n",
    "1. Reason carefully about the user's messages as presented below. \n",
    "\n",
    "2. Decide whether any of the your long-term memory should be updated:\n",
    "- If personal information was provided about the user, update the user's profile by calling UpdateMemory tool with type `user`\n",
    "- If tasks are mentioned, update the ToDo list by calling UpdateMemory tool with type `todo`\n",
    "- If the user has specified preferences for how to update the ToDo list, update the instructions by calling UpdateMemory tool with type `instructions`\n",
    "\n",
    "3. Tell the user that you have updated your memory, if appropriate:\n",
    "- Do not tell the user you have updated the user's profile\n",
    "- Tell the user them when you update the todo list\n",
    "- Do not tell the user that you have updated instructions\n",
    "\n",
    "4. Err on the side of updating the todo list. No need to ask for explicit permission.\n",
    "\n",
    "5. Respond naturally to user user after a tool call was made to save memories, or if no tool call was made.\"\"\"\n",
    "\n",
    "# Node Definition\n",
    "def task_mAIstro(state: MessagesState, store: BaseStore, config: RunnableConfig):\n",
    "    # Get the memories from the store\n",
    "    user_id = config['configurable']['user_id']\n",
    "    \n",
    "    # Get the profile\n",
    "    namespace = ('profile',user_id)\n",
    "    memories = store.search(namespace)\n",
    "    ## Format the memories\n",
    "    if memories:\n",
    "        user_profile = memories[0].value\n",
    "    else:\n",
    "        user_profile = None\n",
    "    \n",
    "    # Get the ToDo Items\n",
    "    namespace = ('todo', user_id)\n",
    "    memories = store.search(namespace)\n",
    "    todo = '\\n'.join(f\"{item.value}\" for item in memories)\n",
    "    \n",
    "    # Retrieve custom instructions\n",
    "    namespace = (\"instructions\", user_id)\n",
    "    memories = store.search(namespace)\n",
    "    if memories:\n",
    "        instructions = memories[0].value\n",
    "    else:\n",
    "        instructions = \"\"\n",
    "    \n",
    "    system_msg = MODEL_SYSTEM_MESSAGE.format(user_profile=user_profile, todo=todo, instructions=instructions)\n",
    "\n",
    "    # Respond using memory as well as the chat history\n",
    "    response = model.bind_tools([UpdateMemory], parallel_tool_calls=False).invoke([SystemMessage(content=system_msg)]+state[\"messages\"])\n",
    "\n",
    "    return {\"messages\": [response]}"
   ]
  },
  {
   "cell_type": "markdown",
   "metadata": {},
   "source": [
    "### Node 1: For Updating User Profile"
   ]
  },
  {
   "cell_type": "code",
   "execution_count": 52,
   "metadata": {},
   "outputs": [],
   "source": [
    "from trustcall import create_extractor\n",
    "from langchain_core.messages import merge_message_runs\n",
    "import uuid\n",
    "\n",
    "# Trustcall Extractor for updating the profile\n",
    "profile_extractor = create_extractor(model,\n",
    "                                       tools=[Profile],\n",
    "                                       tool_choice=\"Profile\")\n",
    "\n",
    "# Prompt for updating the user_profile\n",
    "TRUSTCALL_INSTRUCTION = \"\"\"Reflect on following interaction. \n",
    "\n",
    "Use the provided tools to retain any necessary memories about the user. \n",
    "\n",
    "Use parallel tool calling to handle updates and insertions simultaneously.\n",
    "\n",
    "System Time: {time}\"\"\"\n",
    "\n",
    "# Create a function that extracts memories, invokes trustcall to get the patches and updates the memories\n",
    "def update_profile(state: MessagesState, config: RunnableConfig, store: BaseStore):\n",
    "    \"\"\"Reflect on the chat history and update the memory collection.\"\"\"\n",
    "\n",
    "    # Get the user ID from the config\n",
    "    user_id = config[\"configurable\"][\"user_id\"]\n",
    "\n",
    "    # Define the namespace for the memories\n",
    "    namespace = (\"profile\", user_id)\n",
    "\n",
    "    # Retrieve the most recent memories for context\n",
    "    existing_items = store.search(namespace)\n",
    "\n",
    "    # Format the memory for the prompt\n",
    "    tool_name = 'Profile'\n",
    "    existing_memories = ([(item.key, tool_name, item.value) for item in existing_items] if existing_items else None)\n",
    "\n",
    "    # Format the prompt and call the extractor\n",
    "    TRUSTCALL_INSTRUCTION_FORMATTED=TRUSTCALL_INSTRUCTION.format(time=datetime.now().isoformat())\n",
    "    updated_messages=list(merge_message_runs(messages=[SystemMessage(content=TRUSTCALL_INSTRUCTION_FORMATTED)] + state[\"messages\"][:-1]))\n",
    "\n",
    "    # Invoke the extractor\n",
    "    result = profile_extractor.invoke({\"messages\": updated_messages, \n",
    "                                         \"existing\": existing_memories})\n",
    "    \n",
    "    # Update the Profile\n",
    "    for r, r_meta in zip(result['responses'], result['response_metadata']):\n",
    "        store.put(namespace, key = r_meta.get('json_doc_id', str(uuid.uuid4())), value = r.model_dump(mode='json'))\n",
    "    \n",
    "    # We must return a confirmation to the llm that a tool_call has been made successfully, if any\n",
    "    tool_calls = state['messages'][-1].tool_calls\n",
    "\n",
    "    return {\"messages\": [{\"role\": \"tool\", \"content\": \"updated profile\", \"tool_call_id\":tool_calls[0]['id']}]}"
   ]
  },
  {
   "cell_type": "markdown",
   "metadata": {},
   "source": [
    "### Node 2: For Updating ToDo Collection"
   ]
  },
  {
   "cell_type": "code",
   "execution_count": 47,
   "metadata": {},
   "outputs": [],
   "source": [
    "def update_todos(state: MessagesState, config: RunnableConfig, store: BaseStore):\n",
    "\n",
    "    \"\"\"Reflect on the chat history and update the memory collection.\"\"\"\n",
    "    \n",
    "    # Get the user ID from the config\n",
    "    user_id = config[\"configurable\"][\"user_id\"]\n",
    "\n",
    "    # Define the namespace for the memories\n",
    "    namespace = (\"todo\", user_id)\n",
    "\n",
    "    # Retrieve the most recent memories for context\n",
    "    existing_items = store.search(namespace)\n",
    "\n",
    "    # Format the existing memories for the Trustcall extractor\n",
    "    tool_name = \"ToDo\"\n",
    "    existing_memories = ([(existing_item.key, tool_name, existing_item.value)\n",
    "                          for existing_item in existing_items]\n",
    "                          if existing_items\n",
    "                          else None\n",
    "                        )\n",
    "\n",
    "    # Merge the chat history and the instruction\n",
    "    TRUSTCALL_INSTRUCTION_FORMATTED=TRUSTCALL_INSTRUCTION.format(time=datetime.now().isoformat())\n",
    "    updated_messages=list(merge_message_runs(messages=[SystemMessage(content=TRUSTCALL_INSTRUCTION_FORMATTED)] + state[\"messages\"][:-1]))\n",
    "\n",
    "    # Initialize the spy for visibility into the tool calls made by Trustcall\n",
    "    spy = Spy()\n",
    "    \n",
    "    # Create the Trustcall extractor for updating the ToDo list \n",
    "    todo_extractor = create_extractor(\n",
    "    model,\n",
    "    tools=[ToDo],\n",
    "    tool_choice=tool_name,\n",
    "    enable_inserts=True\n",
    "    ).with_listeners(on_end=spy)\n",
    "\n",
    "    # Invoke the extractor\n",
    "    result = todo_extractor.invoke({\"messages\": updated_messages, \n",
    "                                    \"existing\": existing_memories})\n",
    "\n",
    "    # Save the memories from Trustcall to the store\n",
    "    for r, rmeta in zip(result[\"responses\"], result[\"response_metadata\"]):\n",
    "        store.put(namespace,\n",
    "                  rmeta.get(\"json_doc_id\", str(uuid.uuid4())),\n",
    "                  r.model_dump(mode=\"json\"),\n",
    "            )\n",
    "        \n",
    "    # Respond to the tool call made in task_mAIstro, confirming the update\n",
    "    tool_calls = state['messages'][-1].tool_calls\n",
    "\n",
    "    # Extract the changes made by Trustcall and add the the ToolMessage returned to Main Node\n",
    "    todo_update_msg = extract_tool_info(spy.called_tools, tool_name)\n",
    "    return {\"messages\": [{\"role\": \"tool\", \"content\": todo_update_msg, \"tool_call_id\":tool_calls[0]['id']}]}"
   ]
  },
  {
   "cell_type": "markdown",
   "metadata": {},
   "source": [
    "### Node 3: For Updating Instructions"
   ]
  },
  {
   "cell_type": "code",
   "execution_count": 48,
   "metadata": {},
   "outputs": [],
   "source": [
    "# Instructions for updating the ToDo list\n",
    "CREATE_INSTRUCTIONS = \"\"\"Reflect on the following interaction.\n",
    "\n",
    "Based on this interaction, update your instructions for how to update ToDo list items. \n",
    "\n",
    "Use any feedback from the user to update how they like to have items added, etc.\n",
    "\n",
    "Your current instructions are:\n",
    "\n",
    "<current_instructions>\n",
    "{current_instructions}\n",
    "</current_instructions>\"\"\"\n",
    "\n",
    "def update_instructions(state: MessagesState, config: RunnableConfig, store: BaseStore):\n",
    "\n",
    "    \"\"\"Reflect on the chat history and update the memory collection.\"\"\"\n",
    "    \n",
    "    # Get the user ID from the config\n",
    "    user_id = config[\"configurable\"][\"user_id\"]\n",
    "    \n",
    "    namespace = (\"instructions\", user_id)\n",
    "\n",
    "    existing_memory = store.get(namespace, \"user_instructions\")\n",
    "        \n",
    "    # Format the memory in the system prompt\n",
    "    system_msg = CREATE_INSTRUCTIONS.format(current_instructions=existing_memory.value if existing_memory else None)\n",
    "    new_memory = model.invoke([SystemMessage(content=system_msg)]+state['messages'][:-1] + [HumanMessage(content=\"Please update the instructions based on the conversation\")])\n",
    "\n",
    "    # Overwrite the existing memory in the store \n",
    "    key = \"user_instructions\"\n",
    "    store.put(namespace, key, {\"memory\": new_memory.content})\n",
    "    tool_calls = state['messages'][-1].tool_calls\n",
    "    return {\"messages\": [{\"role\": \"tool\", \"content\": \"updated instructions\", \"tool_call_id\":tool_calls[0]['id']}]}"
   ]
  },
  {
   "cell_type": "markdown",
   "metadata": {},
   "source": [
    "### Conditional Edge: Routing Function"
   ]
  },
  {
   "cell_type": "code",
   "execution_count": 49,
   "metadata": {},
   "outputs": [],
   "source": [
    "# Conditional edge\n",
    "def route_message(state: MessagesState, config: RunnableConfig, store: BaseStore) -> Literal[END, \"update_todos\", \"update_instructions\", \"update_profile\"]:\n",
    "\n",
    "    \"\"\"Reflect on the memories and chat history to decide whether to update the memory collection.\"\"\"\n",
    "    message = state['messages'][-1]\n",
    "    if len(message.tool_calls) ==0:\n",
    "        return END\n",
    "    else:\n",
    "        tool_call = message.tool_calls[0]\n",
    "        if tool_call['args']['update_type'] == \"user\":\n",
    "            return \"update_profile\"\n",
    "        elif tool_call['args']['update_type'] == \"todo\":\n",
    "            return \"update_todos\"\n",
    "        elif tool_call['args']['update_type'] == \"instructions\":\n",
    "            return \"update_instructions\"\n",
    "        else:\n",
    "            raise ValueError"
   ]
  },
  {
   "cell_type": "markdown",
   "metadata": {},
   "source": [
    "### Build the Graph"
   ]
  },
  {
   "cell_type": "code",
   "execution_count": 65,
   "metadata": {},
   "outputs": [
    {
     "data": {
      "image/jpeg": "[encoded data removed]",
      "text/plain": [
       "<IPython.core.display.Image object>"
      ]
     },
     "metadata": {},
     "output_type": "display_data"
    }
   ],
   "source": [
    "from IPython.display import display, Image\n",
    "# Create the graph + all nodes\n",
    "builder = StateGraph(MessagesState)\n",
    "\n",
    "# Define the flow of the memory extraction process\n",
    "builder.add_node(task_mAIstro)\n",
    "builder.add_node(\"update_todos\",update_todos)\n",
    "builder.add_node(\"update_profile\",update_profile)\n",
    "builder.add_node(\"update_instructions\",update_instructions)\n",
    "builder.add_edge(START, \"task_mAIstro\")\n",
    "builder.add_conditional_edges(\"task_mAIstro\", route_message)\n",
    "builder.add_edge(\"update_todos\", \"task_mAIstro\")\n",
    "builder.add_edge(\"update_profile\", \"task_mAIstro\")\n",
    "builder.add_edge(\"update_instructions\", \"task_mAIstro\")\n",
    "\n",
    "# Store for long-term (across-thread) memory\n",
    "across_thread_memory = InMemoryStore()\n",
    "\n",
    "# Checkpointer for short-term (within-thread) memory\n",
    "within_thread_memory = MemorySaver()\n",
    "\n",
    "# We compile the graph with the checkpointer and store\n",
    "graph = builder.compile(checkpointer=within_thread_memory, store=across_thread_memory)\n",
    "\n",
    "# View\n",
    "display(Image(graph.get_graph(xray=1).draw_mermaid_png()))"
   ]
  },
  {
   "cell_type": "markdown",
   "metadata": {},
   "source": [
    "## Sample Runs"
   ]
  },
  {
   "cell_type": "code",
   "execution_count": 66,
   "metadata": {},
   "outputs": [
    {
     "name": "stdout",
     "output_type": "stream",
     "text": [
      "================================\u001b[1m Human Message \u001b[0m=================================\n",
      "\n",
      "My name is Manan. I am a student at IIT-Kharagpur. I love Coding!\n",
      "==================================\u001b[1m Ai Message \u001b[0m==================================\n",
      "Tool Calls:\n",
      "  UpdateMemory (call_6Wy7Rf5oj6gchmTPswvNCodM)\n",
      " Call ID: call_6Wy7Rf5oj6gchmTPswvNCodM\n",
      "  Args:\n",
      "    update_type: user\n",
      "=================================\u001b[1m Tool Message \u001b[0m=================================\n",
      "\n",
      "updated profile\n",
      "==================================\u001b[1m Ai Message \u001b[0m==================================\n",
      "\n",
      "Nice to meet you, Manan! It's great to hear that you're a student at IIT-Kharagpur and that you love coding. How can I assist you today?\n"
     ]
    }
   ],
   "source": [
    "# We supply a thread ID for short-term (within-thread) memory\n",
    "# We supply a user ID for long-term (across-thread) memory \n",
    "config = {\"configurable\": {\"thread_id\": \"1\", \"user_id\": \"Manan\"}}\n",
    "\n",
    "# User input to create a profile memory\n",
    "input_messages = [HumanMessage(content=\"My name is Manan. I am a student at IIT-Kharagpur. I love Coding!\")]\n",
    "\n",
    "# Run the graph\n",
    "for chunk in graph.stream({\"messages\": input_messages}, config, stream_mode=\"values\"):\n",
    "    chunk[\"messages\"][-1].pretty_print()"
   ]
  },
  {
   "cell_type": "code",
   "execution_count": 67,
   "metadata": {},
   "outputs": [
    {
     "name": "stdout",
     "output_type": "stream",
     "text": [
      "================================\u001b[1m Human Message \u001b[0m=================================\n",
      "\n",
      "I want to finish the 'Introduction_to_Langgraph Course!'\n",
      "==================================\u001b[1m Ai Message \u001b[0m==================================\n",
      "Tool Calls:\n",
      "  UpdateMemory (call_SH15PDEHdaCZVytMiaHa4zZQ)\n",
      " Call ID: call_SH15PDEHdaCZVytMiaHa4zZQ\n",
      "  Args:\n",
      "    update_type: todo\n",
      "=================================\u001b[1m Tool Message \u001b[0m=================================\n",
      "\n",
      "New ToDo created:\n",
      "Content: {'task': \"Finish the 'Introduction_to_Langgraph Course'\", 'time_to_complete': 5, 'deadline': None, 'solutions': ['Set aside dedicated study time each day', 'Review course materials and take notes', 'Complete all assignments and quizzes', 'Join study groups or forums for discussion'], 'status': 'not started'}\n",
      "==================================\u001b[1m Ai Message \u001b[0m==================================\n",
      "\n",
      "I've added \"Finish the 'Introduction_to_Langgraph Course'\" to your ToDo list. If you need any help or strategies to complete it, feel free to ask!\n"
     ]
    }
   ],
   "source": [
    "# User input for a ToDo\n",
    "input_messages = [HumanMessage(content=\"I want to finish the 'Introduction_to_Langgraph Course!'\")]\n",
    "\n",
    "# Run the graph\n",
    "for chunk in graph.stream({\"messages\": input_messages}, config, stream_mode=\"values\"):\n",
    "    chunk[\"messages\"][-1].pretty_print()"
   ]
  },
  {
   "cell_type": "code",
   "execution_count": 68,
   "metadata": {},
   "outputs": [
    {
     "name": "stdout",
     "output_type": "stream",
     "text": [
      "================================\u001b[1m Human Message \u001b[0m=================================\n",
      "\n",
      "When creating or updating ToDo items, make sure to include a motivational quote!\n",
      "==================================\u001b[1m Ai Message \u001b[0m==================================\n",
      "Tool Calls:\n",
      "  UpdateMemory (call_SkbavUOYMqLAnk9mwWYHJnyI)\n",
      " Call ID: call_SkbavUOYMqLAnk9mwWYHJnyI\n",
      "  Args:\n",
      "    update_type: instructions\n",
      "=================================\u001b[1m Tool Message \u001b[0m=================================\n",
      "\n",
      "updated instructions\n",
      "==================================\u001b[1m Ai Message \u001b[0m==================================\n",
      "\n",
      "Got it! I'll make sure to include a motivational quote whenever I create or update your ToDo items. If there's anything else you need, just let me know!\n"
     ]
    }
   ],
   "source": [
    "# User input to update instructions for creating ToDos\n",
    "input_messages = [HumanMessage(content=\"When creating or updating ToDo items, make sure to include a motivational quote!\")]\n",
    "\n",
    "# Run the graph\n",
    "for chunk in graph.stream({\"messages\": input_messages}, config, stream_mode=\"values\"):\n",
    "    chunk[\"messages\"][-1].pretty_print()"
   ]
  },
  {
   "cell_type": "code",
   "execution_count": 69,
   "metadata": {},
   "outputs": [
    {
     "name": "stdout",
     "output_type": "stream",
     "text": [
      "{'memory': '<current_instructions>\\nWhen creating or updating ToDo list items, include a motivational quote to inspire and encourage the user.\\n</current_instructions>'}\n"
     ]
    }
   ],
   "source": [
    "# Check for updated instructions\n",
    "user_id = \"Manan\"\n",
    "\n",
    "# Search \n",
    "for memory in across_thread_memory.search((\"instructions\", user_id)):\n",
    "    print(memory.value)"
   ]
  },
  {
   "cell_type": "code",
   "execution_count": 70,
   "metadata": {},
   "outputs": [
    {
     "name": "stdout",
     "output_type": "stream",
     "text": [
      "================================\u001b[1m Human Message \u001b[0m=================================\n",
      "\n",
      "I need to learn basic DSA, SQL for my interviews :( )\n",
      "==================================\u001b[1m Ai Message \u001b[0m==================================\n",
      "Tool Calls:\n",
      "  UpdateMemory (call_5jhH2AaFIT6vRCYGF0nxoea1)\n",
      " Call ID: call_5jhH2AaFIT6vRCYGF0nxoea1\n",
      "  Args:\n",
      "    update_type: todo\n",
      "=================================\u001b[1m Tool Message \u001b[0m=================================\n",
      "\n",
      "New ToDo created:\n",
      "Content: {'task': 'Learn basic DSA for interviews', 'time_to_complete': 10, 'solutions': ['Set a study schedule', 'Use online resources and tutorials', 'Practice coding problems', 'Join study groups'], 'status': 'not started'}\n",
      "\n",
      "New ToDo created:\n",
      "Content: {'task': 'Learn basic SQL for interviews', 'time_to_complete': 8, 'solutions': ['Follow a structured course', 'Practice with real databases', 'Work on SQL projects', 'Review SQL interview questions'], 'status': 'not started'}\n",
      "==================================\u001b[1m Ai Message \u001b[0m==================================\n",
      "\n",
      "I've added \"Learn basic DSA for interviews\" and \"Learn basic SQL for interviews\" to your ToDo list. Remember, \"The only way to do great work is to love what you do.\" Keep pushing forward, and you'll do great in your interviews! If you need any resources or tips, feel free to ask.\n"
     ]
    }
   ],
   "source": [
    "# User input for a ToDo\n",
    "input_messages = [HumanMessage(content=\"I need to learn basic DSA, SQL for my interviews :( )\")]\n",
    "\n",
    "# Run the graph\n",
    "for chunk in graph.stream({\"messages\": input_messages}, config, stream_mode=\"values\"):\n",
    "    chunk[\"messages\"][-1].pretty_print()"
   ]
  },
  {
   "cell_type": "code",
   "execution_count": 72,
   "metadata": {},
   "outputs": [
    {
     "name": "stdout",
     "output_type": "stream",
     "text": [
      "--------------------------------------------------\n",
      "{'task': \"Finish the 'Introduction_to_Langgraph Course'\", 'time_to_complete': 5, 'deadline': None, 'solutions': ['Set aside dedicated study time each day', 'Review course materials and take notes', 'Complete all assignments and quizzes', 'Join study groups or forums for discussion'], 'status': 'not started'}\n",
      "--------------------------------------------------\n",
      "{'task': 'Learn basic DSA for interviews', 'time_to_complete': 10, 'deadline': None, 'solutions': ['Set a study schedule', 'Use online resources and tutorials', 'Practice coding problems', 'Join study groups'], 'status': 'not started'}\n",
      "--------------------------------------------------\n",
      "{'task': 'Learn basic SQL for interviews', 'time_to_complete': 8, 'deadline': None, 'solutions': ['Follow a structured course', 'Practice with real databases', 'Work on SQL projects', 'Review SQL interview questions'], 'status': 'not started'}\n"
     ]
    }
   ],
   "source": [
    "# Namespace for the memory to save\n",
    "user_id = \"Manan\"\n",
    "\n",
    "# Search \n",
    "for memory in across_thread_memory.search((\"todo\", user_id)):\n",
    "    print(\"-\"*50)\n",
    "    print(memory.value)"
   ]
  },
  {
   "cell_type": "code",
   "execution_count": 73,
   "metadata": {},
   "outputs": [
    {
     "name": "stdout",
     "output_type": "stream",
     "text": [
      "================================\u001b[1m Human Message \u001b[0m=================================\n",
      "\n",
      "For the langgraph lessons, I need to get that done by the first week of July!.\n",
      "==================================\u001b[1m Ai Message \u001b[0m==================================\n",
      "Tool Calls:\n",
      "  UpdateMemory (call_DTxQp4PLANyJoV3yDfF8xYD9)\n",
      " Call ID: call_DTxQp4PLANyJoV3yDfF8xYD9\n",
      "  Args:\n",
      "    update_type: todo\n",
      "=================================\u001b[1m Tool Message \u001b[0m=================================\n",
      "\n",
      "Document be2a67e9-14e3-4d72-897d-5aa2a3f5bd6e updated:\n",
      "Plan: 1. Add a deadline to the task 'Finish the Introduction_to_Langgraph Course' with the date set to the end of the first week of July 2025. This involves updating the 'deadline' field.\n",
      "2. Add a motivational quote to the task to inspire the user to complete it.\n",
      "Added content: 2025-07-07T23:59:59\n",
      "==================================\u001b[1m Ai Message \u001b[0m==================================\n",
      "\n",
      "I've updated your ToDo list with a deadline for the \"Introduction_to_Langgraph Course\" to be completed by the first week of July 2025. Remember, \"Success is not the key to happiness. Happiness is the key to success. If you love what you are doing, you will be successful.\" Keep up the great work!\n"
     ]
    }
   ],
   "source": [
    "# User input to update an existing ToDo\n",
    "input_messages = [HumanMessage(content=\"For the langgraph lessons, I need to get that done by the first week of July!.\")]\n",
    "\n",
    "# Run the graph\n",
    "for chunk in graph.stream({\"messages\": input_messages}, config, stream_mode=\"values\"):\n",
    "    chunk[\"messages\"][-1].pretty_print()"
   ]
  },
  {
   "cell_type": "markdown",
   "metadata": {},
   "source": [
    "## Trying with a New Thread\n",
    "- All the long-term memories are retained!"
   ]
  },
  {
   "cell_type": "code",
   "execution_count": 74,
   "metadata": {},
   "outputs": [
    {
     "name": "stdout",
     "output_type": "stream",
     "text": [
      "================================\u001b[1m Human Message \u001b[0m=================================\n",
      "\n",
      "I have 30 minutes, what tasks can I get done?\n",
      "==================================\u001b[1m Ai Message \u001b[0m==================================\n",
      "\n",
      "Let's take a look at your current ToDo list to see what tasks might fit into a 30-minute window:\n",
      "\n",
      "1. **Finish the 'Introduction_to_Langgraph Course'** - Estimated time: 5 hours\n",
      "2. **Learn basic DSA for interviews** - Estimated time: 10 hours\n",
      "3. **Learn basic SQL for interviews** - Estimated time: 8 hours\n",
      "\n",
      "While none of these tasks can be fully completed in 30 minutes, you can make progress on any of them. Here are some suggestions:\n",
      "\n",
      "- **Introduction_to_Langgraph Course**: Spend 30 minutes reviewing course materials or taking notes.\n",
      "- **Learn basic DSA**: Use the time to practice a few coding problems or watch a short tutorial.\n",
      "- **Learn basic SQL**: You could follow a short lesson or practice a few SQL queries.\n",
      "\n",
      "Remember, every small step counts! Let me know if you'd like to add a new task or update any existing ones.\n"
     ]
    }
   ],
   "source": [
    "# We supply a thread ID for short-term (within-thread) memory\n",
    "# We supply a user ID for long-term (across-thread) memory \n",
    "config = {\"configurable\": {\"thread_id\": \"2\", \"user_id\": \"Manan\"}}\n",
    "\n",
    "# Chat with the chatbot\n",
    "input_messages = [HumanMessage(content=\"I have 30 minutes, what tasks can I get done?\")]\n",
    "\n",
    "# Run the graph\n",
    "for chunk in graph.stream({\"messages\": input_messages}, config, stream_mode=\"values\"):\n",
    "    chunk[\"messages\"][-1].pretty_print()"
   ]
  },
  {
   "cell_type": "code",
   "execution_count": 75,
   "metadata": {},
   "outputs": [
    {
     "name": "stdout",
     "output_type": "stream",
     "text": [
      "================================\u001b[1m Human Message \u001b[0m=================================\n",
      "\n",
      "Thanks! Let's start learning SQL. Give me something to start.\n",
      "==================================\u001b[1m Ai Message \u001b[0m==================================\n",
      "\n",
      "Great choice! Here's a simple plan to get you started with SQL in your 30-minute session:\n",
      "\n",
      "1. **Follow a Structured Course**: Begin with a basic tutorial or course. Websites like W3Schools or Codecademy offer free introductory lessons on SQL. You can start with understanding the basic SQL syntax and commands like `SELECT`, `FROM`, and `WHERE`.\n",
      "\n",
      "2. **Practice with Real Databases**: If you have access to a database, try running some basic queries. If not, you can use online platforms like SQLFiddle or DB-Fiddle to practice.\n",
      "\n",
      "3. **Work on SQL Projects**: Consider starting a small project, like creating a simple database for a personal project or hobby. This will help you apply what you learn.\n",
      "\n",
      "4. **Review SQL Interview Questions**: If you're preparing for interviews, look at common SQL interview questions and try to solve them.\n",
      "\n",
      "Here's a motivational quote to keep you inspired: \"The secret of getting ahead is getting started.\"\n",
      "\n",
      "Let me know if you want to update your ToDo list with this progress!\n"
     ]
    }
   ],
   "source": [
    "# Chat with the chatbot\n",
    "input_messages = [HumanMessage(content=\"Thanks! Let's start learning SQL. Give me something to start.\")]\n",
    "\n",
    "# Run the graph\n",
    "for chunk in graph.stream({\"messages\": input_messages}, config, stream_mode=\"values\"):\n",
    "    chunk[\"messages\"][-1].pretty_print()"
   ]
  },
  {
   "cell_type": "code",
   "execution_count": null,
   "metadata": {},
   "outputs": [],
   "source": []
  }
 ],
 "metadata": {
  "kernelspec": {
   "display_name": "langgraph_env",
   "language": "python",
   "name": "python3"
  },
  "language_info": {
   "codemirror_mode": {
    "name": "ipython",
    "version": 3
   },
   "file_extension": ".py",
   "mimetype": "text/x-python",
   "name": "python",
   "nbconvert_exporter": "python",
   "pygments_lexer": "ipython3",
   "version": "3.11.0"
  }
 },
 "nbformat": 4,
 "nbformat_minor": 2
}
