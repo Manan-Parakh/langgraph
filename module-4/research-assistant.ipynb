{
 "cells": [
  {
   "cell_type": "markdown",
   "metadata": {},
   "source": [
    "# Research Assistant\n",
    "\n",
    "Till now we have studied\n",
    "* Memory\n",
    "* Human-in-the-loop\n",
    "* Controllability"
   ]
  },
  {
   "cell_type": "code",
   "execution_count": 4,
   "metadata": {},
   "outputs": [],
   "source": [
    "import os\n",
    "from dotenv import load_dotenv\n",
    "load_dotenv()\n",
    "\n",
    "os.environ['OPENAI_API_KEY'] = os.getenv(\"OPENAI_API_KEY\")\n",
    "from langchain_openai import ChatOpenAI\n",
    "llm = ChatOpenAI(model=\"gpt-4o\",temperature=0)"
   ]
  },
  {
   "cell_type": "markdown",
   "metadata": {},
   "source": [
    "## Generate Analysts: Human-in-The-Loop"
   ]
  },
  {
   "cell_type": "code",
   "execution_count": 5,
   "metadata": {},
   "outputs": [],
   "source": [
    "from typing import List\n",
    "from typing_extensions import TypedDict\n",
    "from pydantic import BaseModel, Field\n",
    "\n",
    "# Define the Analyst Class\n",
    "class Analyst(BaseModel):\n",
    "    affiliation: str = Field(\n",
    "        description=\"Primary affiliation of the analyst.\",\n",
    "    )\n",
    "    name: str = Field(\n",
    "        description=\"Name of the analyst.\"\n",
    "    )\n",
    "    role: str = Field(\n",
    "        description=\"Role of the analyst in the context of the topic.\",\n",
    "    )\n",
    "    description: str = Field(\n",
    "        description=\"Description of the analyst focus, concerns, and motives.\",\n",
    "    )\n",
    "    @property\n",
    "    def persona(self) -> str:\n",
    "        return f\"Name: {self.name}\\nRole: {self.role}\\nAffiliation: {self.affiliation}\\nDescription: {self.description}\\n\"\n",
    "\n",
    "# Define a class containing info about all the Analysts\n",
    "# Useful for getting structured outputs from the llm\n",
    "class Perspectives(BaseModel):\n",
    "    analysts: list[Analyst] = Field(\n",
    "        description=\"Comprehensive list of analysts with their roles and affiliations.\"\n",
    "    )\n",
    "\n",
    "# Define the state for the subgraph\n",
    "class GenerateAnalystsState(TypedDict):\n",
    "    topic: str # Input from the user\n",
    "    max_analysts: int # Number of Analyst\n",
    "    human_analyst_feedback: str # Human Feedback\n",
    "    analysts: List[Analyst] # Analysts asking questions "
   ]
  },
  {
   "cell_type": "code",
   "execution_count": 29,
   "metadata": {},
   "outputs": [
    {
     "data": {
      "image/jpeg": "[encoded data removed]",
      "text/plain": [
       "<IPython.core.display.Image object>"
      ]
     },
     "metadata": {},
     "output_type": "display_data"
    }
   ],
   "source": [
    "from IPython.display import Image, display\n",
    "from langgraph.graph import START, END, StateGraph\n",
    "from langgraph.checkpoint.memory import MemorySaver\n",
    "from langchain_core.messages import AIMessage, HumanMessage, SystemMessage\n",
    "\n",
    "analyst_instructions=\"\"\"You are tasked with creating a set of AI analyst personas. Follow these instructions carefully:\n",
    "\n",
    "1. First, review the research topic:\n",
    "{topic}\n",
    "        \n",
    "2. Examine any editorial feedback that has been optionally provided to guide creation of the analysts: \n",
    "        \n",
    "{human_analyst_feedback}\n",
    "    \n",
    "3. Determine the most interesting themes based upon documents and / or feedback above.\n",
    "                    \n",
    "4. Pick the top {max_analysts} themes.\n",
    "\n",
    "5. Assign one analyst to each theme.\"\"\"\n",
    "\n",
    "# Define the function to create analysts\n",
    "def create_analysts(state: GenerateAnalystsState):\n",
    "    \"\"\"Create Analysts\"\"\"\n",
    "\n",
    "    topic=state['topic']\n",
    "    max_analysts=state['max_analysts']\n",
    "    human_analyst_feedback=state.get('human_analyst_feedback', '')\n",
    "\n",
    "    # Enforcing Structured Outputs\n",
    "    structured_llm = llm.with_structured_output(Perspectives)\n",
    "\n",
    "    # System Message\n",
    "    system_message = analyst_instructions.format(topic=topic,\n",
    "                                                            human_analyst_feedback=human_analyst_feedback, \n",
    "                                                            max_analysts=max_analysts)\n",
    "    \n",
    "    # Generate the Analysts\n",
    "    analysts = structured_llm.invoke([SystemMessage(content=system_message)]+[HumanMessage(content=\"Generate the set of analysts.\")])\n",
    "\n",
    "    # Write the list of analysis to state\n",
    "    return {\"analysts\": analysts.analysts}\n",
    "\n",
    "# For the Human Feedback, we will use a no-op node so that we can interrupt\n",
    "def human_feedback(state: GenerateAnalystsState):\n",
    "    pass\n",
    "\n",
    "def should_continue(state: GenerateAnalystsState):\n",
    "    \"\"\"Return the Next Node to execute\"\"\"\n",
    "\n",
    "    # If any human feedback is there, return back to create_analysts node\n",
    "    human_feedback = state.get('human_analyst_feedback', None)\n",
    "    if human_feedback:\n",
    "        return \"create_analysts\"\n",
    "    return END\n",
    "\n",
    "# Add nodes and edges \n",
    "builder = StateGraph(GenerateAnalystsState)\n",
    "builder.add_node(\"create_analysts\", create_analysts)\n",
    "builder.add_node(\"human_feedback\", human_feedback)\n",
    "builder.add_edge(START, \"create_analysts\")\n",
    "builder.add_edge(\"create_analysts\", \"human_feedback\")\n",
    "builder.add_conditional_edges(\"human_feedback\", should_continue, [\"create_analysts\", END])\n",
    "\n",
    "# Compile\n",
    "memory = MemorySaver()\n",
    "graph = builder.compile(interrupt_before=['human_feedback'], checkpointer=memory)\n",
    "\n",
    "# View\n",
    "display(Image(graph.get_graph(xray=1).draw_mermaid_png()))"
   ]
  },
  {
   "cell_type": "code",
   "execution_count": 30,
   "metadata": {},
   "outputs": [
    {
     "name": "stdout",
     "output_type": "stream",
     "text": [
      "Name: Dr. Emily Carter\n",
      "Affiliation: Tech Innovators Inc.\n",
      "Role: AI Framework Specialist\n",
      "Description: Dr. Carter focuses on the technical advantages and integration capabilities of LangGraph. She is particularly interested in how LangGraph can enhance the efficiency and scalability of AI systems.\n",
      "--------------------------------------------------\n",
      "Name: Mr. Raj Patel\n",
      "Affiliation: GreenTech Solutions\n",
      "Role: Sustainability Analyst\n",
      "Description: Mr. Patel examines the environmental impact of adopting LangGraph. He is concerned with how the framework can contribute to energy efficiency and reduce the carbon footprint of AI operations.\n",
      "--------------------------------------------------\n",
      "Name: Ms. Linda Zhao\n",
      "Affiliation: Global Business Insights\n",
      "Role: Business Strategist\n",
      "Description: Ms. Zhao analyzes the economic benefits and market potential of LangGraph. Her focus is on how adopting this framework can provide competitive advantages and drive business growth.\n",
      "--------------------------------------------------\n"
     ]
    }
   ],
   "source": [
    "# Input\n",
    "max_analysts = 3 \n",
    "topic = \"The benefits of adopting LangGraph as an agent framework\"\n",
    "thread = {\"configurable\": {\"thread_id\": \"1\"}}\n",
    "\n",
    "# Run the graph until the first interruption\n",
    "for event in graph.stream({\"topic\":topic,\"max_analysts\":max_analysts,}, thread, stream_mode=\"values\"):\n",
    "    # Review\n",
    "    analysts = event.get('analysts', '')\n",
    "    if analysts:\n",
    "        for analyst in analysts:\n",
    "            print(f\"Name: {analyst.name}\")\n",
    "            print(f\"Affiliation: {analyst.affiliation}\")\n",
    "            print(f\"Role: {analyst.role}\")\n",
    "            print(f\"Description: {analyst.description}\")\n",
    "            print(\"-\" * 50)  "
   ]
  },
  {
   "cell_type": "code",
   "execution_count": 31,
   "metadata": {},
   "outputs": [
    {
     "data": {
      "text/plain": [
       "('human_feedback',)"
      ]
     },
     "execution_count": 31,
     "metadata": {},
     "output_type": "execute_result"
    }
   ],
   "source": [
    "# Get state and look at next node\n",
    "state = graph.get_state(thread)\n",
    "state.next"
   ]
  },
  {
   "cell_type": "code",
   "execution_count": 32,
   "metadata": {},
   "outputs": [
    {
     "data": {
      "text/plain": [
       "{'configurable': {'thread_id': '1',\n",
       "  'checkpoint_ns': '',\n",
       "  'checkpoint_id': '1f052d9c-eb85-6a0f-8002-01decdb9704b'}}"
      ]
     },
     "execution_count": 32,
     "metadata": {},
     "output_type": "execute_result"
    }
   ],
   "source": [
    "# We now update the state as if we are the human_feedback node\n",
    "graph.update_state(thread, {\"human_analyst_feedback\": \n",
    "                            \"Add in someone from a startup to add an entrepreneur perspective\"}, as_node=\"human_feedback\")"
   ]
  },
  {
   "cell_type": "code",
   "execution_count": 33,
   "metadata": {},
   "outputs": [
    {
     "name": "stdout",
     "output_type": "stream",
     "text": [
      "Name: Dr. Emily Carter\n",
      "Affiliation: Tech Innovators Inc.\n",
      "Role: AI Framework Specialist\n",
      "Description: Dr. Carter focuses on the technical advantages and integration capabilities of LangGraph. She is particularly interested in how LangGraph can enhance the efficiency and scalability of AI systems.\n",
      "--------------------------------------------------\n",
      "Name: Mr. Raj Patel\n",
      "Affiliation: GreenTech Solutions\n",
      "Role: Sustainability Analyst\n",
      "Description: Mr. Patel examines the environmental impact of adopting LangGraph. He is concerned with how the framework can contribute to energy efficiency and reduce the carbon footprint of AI operations.\n",
      "--------------------------------------------------\n",
      "Name: Ms. Linda Zhao\n",
      "Affiliation: Global Business Insights\n",
      "Role: Business Strategist\n",
      "Description: Ms. Zhao analyzes the economic benefits and market potential of LangGraph. Her focus is on how adopting this framework can provide competitive advantages and drive business growth.\n",
      "--------------------------------------------------\n",
      "Name: Alex Johnson\n",
      "Affiliation: Tech Startup\n",
      "Role: Entrepreneur\n",
      "Description: Alex is a co-founder of a tech startup that specializes in AI-driven solutions. He is focused on the practical applications and scalability of adopting LangGraph as an agent framework, particularly in how it can drive innovation and competitive advantage for startups.\n",
      "--------------------------------------------------\n",
      "Name: Dr. Emily Chen\n",
      "Affiliation: University of Technology\n",
      "Role: Academic Researcher\n",
      "Description: Dr. Chen is a leading researcher in AI frameworks and their impact on computational efficiency. Her focus is on the theoretical benefits of LangGraph, such as improved processing speeds and resource management, and how these can be leveraged in academic and industrial research.\n",
      "--------------------------------------------------\n",
      "Name: Michael Thompson\n",
      "Affiliation: Global Tech Corporation\n",
      "Role: Industry Expert\n",
      "Description: Michael is a senior software engineer at a major tech corporation. He is interested in the integration of LangGraph into existing systems, focusing on the framework's interoperability, ease of adoption, and potential to streamline operations within large-scale enterprises.\n",
      "--------------------------------------------------\n"
     ]
    }
   ],
   "source": [
    "# Continue the graph execution\n",
    "for event in graph.stream(None, thread, stream_mode=\"values\"):\n",
    "    # Review\n",
    "    analysts = event.get('analysts', '')\n",
    "    if analysts:\n",
    "        for analyst in analysts:\n",
    "            print(f\"Name: {analyst.name}\")\n",
    "            print(f\"Affiliation: {analyst.affiliation}\")\n",
    "            print(f\"Role: {analyst.role}\")\n",
    "            print(f\"Description: {analyst.description}\")\n",
    "            print(\"-\" * 50) "
   ]
  },
  {
   "cell_type": "code",
   "execution_count": 34,
   "metadata": {},
   "outputs": [
    {
     "data": {
      "text/plain": [
       "{'configurable': {'thread_id': '1',\n",
       "  'checkpoint_ns': '',\n",
       "  'checkpoint_id': '1f052d9d-2ac1-63b6-8004-1f0d645b2d85'}}"
      ]
     },
     "execution_count": 34,
     "metadata": {},
     "output_type": "execute_result"
    }
   ],
   "source": [
    "# If we are satisfied, then we simply supply no feedback\n",
    "further_feedack = None\n",
    "graph.update_state(thread, {\"human_analyst_feedback\": \n",
    "                            further_feedack}, as_node=\"human_feedback\")"
   ]
  },
  {
   "cell_type": "code",
   "execution_count": 35,
   "metadata": {},
   "outputs": [],
   "source": [
    "# Continue the graph execution to end\n",
    "for event in graph.stream(None, thread, stream_mode=\"updates\"):\n",
    "    print(\"--Node--\")\n",
    "    node_name = next(iter(event.keys()))\n",
    "    print(node_name)"
   ]
  },
  {
   "cell_type": "code",
   "execution_count": 36,
   "metadata": {},
   "outputs": [],
   "source": [
    "final_state = graph.get_state(thread)\n",
    "analysts = final_state.values.get('analysts')"
   ]
  },
  {
   "cell_type": "code",
   "execution_count": 37,
   "metadata": {},
   "outputs": [
    {
     "data": {
      "text/plain": [
       "()"
      ]
     },
     "execution_count": 37,
     "metadata": {},
     "output_type": "execute_result"
    }
   ],
   "source": [
    "final_state.next"
   ]
  },
  {
   "cell_type": "code",
   "execution_count": 38,
   "metadata": {},
   "outputs": [
    {
     "name": "stdout",
     "output_type": "stream",
     "text": [
      "Name: Alex Johnson\n",
      "Affiliation: Tech Startup\n",
      "Role: Entrepreneur\n",
      "Description: Alex is a co-founder of a tech startup that specializes in AI-driven solutions. He is focused on the practical applications and scalability of adopting LangGraph as an agent framework, particularly in how it can drive innovation and competitive advantage for startups.\n",
      "--------------------------------------------------\n",
      "Name: Dr. Emily Chen\n",
      "Affiliation: University of Technology\n",
      "Role: Academic Researcher\n",
      "Description: Dr. Chen is a leading researcher in AI frameworks and their impact on computational efficiency. Her focus is on the theoretical benefits of LangGraph, such as improved processing speeds and resource management, and how these can be leveraged in academic and industrial research.\n",
      "--------------------------------------------------\n",
      "Name: Michael Thompson\n",
      "Affiliation: Global Tech Corporation\n",
      "Role: Industry Expert\n",
      "Description: Michael is a senior software engineer at a major tech corporation. He is interested in the integration of LangGraph into existing systems, focusing on the framework's interoperability, ease of adoption, and potential to streamline operations within large-scale enterprises.\n",
      "--------------------------------------------------\n"
     ]
    }
   ],
   "source": [
    "for analyst in analysts:\n",
    "    print(f\"Name: {analyst.name}\")\n",
    "    print(f\"Affiliation: {analyst.affiliation}\")\n",
    "    print(f\"Role: {analyst.role}\")\n",
    "    print(f\"Description: {analyst.description}\")\n",
    "    print(\"-\" * 50) "
   ]
  },
  {
   "cell_type": "markdown",
   "metadata": {},
   "source": [
    "## Conduct Interviews\n",
    "- Multi-turn Conversation between our Analysts and `Experts`: Agents with access to data sources!"
   ]
  },
  {
   "cell_type": "code",
   "execution_count": 7,
   "metadata": {},
   "outputs": [],
   "source": [
    "from operator import add\n",
    "from typing import Annotated\n",
    "from langgraph.graph.message import MessagesState\n",
    "\n",
    "# State for Conducting Interviews\n",
    "class InterviewState(MessagesState):\n",
    "    max_num_turns: int # Number turns of conversation\n",
    "    context: Annotated[list, add] # Source docs\n",
    "    analyst: Analyst # Analyst asking questions\n",
    "    interview: str # Interview transcript\n",
    "    sections: list # Final key we duplicate in outer state for Send() API\n",
    "\n",
    "# For Structured Output\n",
    "class SearchQuery(BaseModel):\n",
    "    search_query: str = Field(None, description=\"Search query for retrieval.\")"
   ]
  },
  {
   "cell_type": "markdown",
   "metadata": {},
   "source": [
    "Flow:\n",
    "- The `Analyst` generates a question based on it's persona and topic/sub-topic in consideration\n",
    "- The `Expert` analyzes the question and makes relevant tool calls with proper `query`\n",
    "- The Analyst and Expert converse until the Analyst is satified."
   ]
  },
  {
   "cell_type": "code",
   "execution_count": 57,
   "metadata": {},
   "outputs": [],
   "source": [
    "question_instructions = \"\"\"You are an analyst tasked with interviewing an expert to learn about a specific topic. \n",
    "\n",
    "Your goal is to boil down to interesting and specific insights related to your topic.\n",
    "\n",
    "1. Interesting: Insights that people will find surprising or non-obvious.\n",
    "        \n",
    "2. Specific: Insights that avoid generalities and include specific examples from the expert.\n",
    "\n",
    "Here is your topic of focus and set of goals and information about you: {goals}\n",
    "        \n",
    "Begin by introducing yourself using a name that fits your persona, and then ask your question.\n",
    "\n",
    "Continue to ask questions to drill down and refine your understanding of the topic.\n",
    "        \n",
    "When you are satisfied with your understanding, complete the interview with: \"Thank you so much for your help!\"\n",
    "\n",
    "Remember to stay in character throughout your response, reflecting the persona and goals provided to you.\"\"\"\n",
    "\n",
    "def generate_question(state: InterviewState):\n",
    "    \"\"\" Node to generate a question \"\"\"\n",
    "\n",
    "    # Get state\n",
    "    analyst = state[\"analyst\"]\n",
    "    messages = state[\"messages\"]\n",
    "\n",
    "    # Generate question \n",
    "    system_message = question_instructions.format(goals=analyst.persona)\n",
    "    question = llm.invoke([SystemMessage(content=system_message)]+messages)\n",
    "        \n",
    "    # Write messages to state\n",
    "    return {\"messages\": [question]}"
   ]
  },
  {
   "cell_type": "markdown",
   "metadata": {},
   "source": [
    "### Generate Answers: Parallelization\n",
    "\n",
    "- We will give our `Expert` some tools which it can use parallely\n",
    "- From the question presented by our Analyst, make a query for tool call"
   ]
  },
  {
   "cell_type": "markdown",
   "metadata": {},
   "source": [
    "#### Search Tools - Tavily, Wikipedia"
   ]
  },
  {
   "cell_type": "code",
   "execution_count": 58,
   "metadata": {},
   "outputs": [],
   "source": [
    "from langchain_community.tools.tavily_search import TavilySearchResults\n",
    "tavily_search = TavilySearchResults(max_results=3)\n",
    "\n",
    "from langchain_community.document_loaders import WikipediaLoader"
   ]
  },
  {
   "cell_type": "code",
   "execution_count": 59,
   "metadata": {},
   "outputs": [],
   "source": [
    "from langchain_core.messages import get_buffer_string\n",
    "\n",
    "# Search query writing\n",
    "search_instructions = SystemMessage(content=f\"\"\"You will be given a conversation between an analyst and an expert. \n",
    "\n",
    "Your goal is to generate a well-structured query for use in retrieval and / or web-search related to the conversation.\n",
    "        \n",
    "First, analyze the full conversation.\n",
    "\n",
    "Pay particular attention to the final question posed by the analyst.\n",
    "\n",
    "Convert this final question into a well-structured web search query\"\"\")\n",
    "\n",
    "# Make the tools for searching the web based on the query\n",
    "def search_web(state: InterviewState):\n",
    "    \n",
    "    \"\"\" Retrieve docs from web search \"\"\"\n",
    "\n",
    "    # Search query\n",
    "    structured_llm = llm.with_structured_output(SearchQuery)\n",
    "    search_query = structured_llm.invoke([search_instructions]+state['messages'])\n",
    "    \n",
    "    # Search\n",
    "    search_docs = tavily_search.invoke(search_query.search_query)\n",
    "\n",
    "     # Format\n",
    "    formatted_search_docs = \"\\n\\n---\\n\\n\".join(\n",
    "        [\n",
    "            f'<Document href=\"{doc[\"url\"]}\"/>\\n{doc[\"content\"]}\\n</Document>'\n",
    "            for doc in search_docs\n",
    "        ]\n",
    "    )\n",
    "\n",
    "    return {\"context\": [formatted_search_docs]} \n",
    "\n",
    "def search_wikipedia(state: InterviewState):\n",
    "    \n",
    "    \"\"\" Retrieve docs from wikipedia \"\"\"\n",
    "\n",
    "    # Search query\n",
    "    structured_llm = llm.with_structured_output(SearchQuery)\n",
    "    search_query = structured_llm.invoke([search_instructions]+state['messages'])\n",
    "    \n",
    "    # Search\n",
    "    search_docs = WikipediaLoader(query=search_query.search_query, \n",
    "                                  load_max_docs=2).load()\n",
    "\n",
    "     # Format\n",
    "    formatted_search_docs = \"\\n\\n---\\n\\n\".join(\n",
    "        [\n",
    "            f'<Document source=\"{doc.metadata[\"source\"]}\" page=\"{doc.metadata.get(\"page\", \"\")}\"/>\\n{doc.page_content}\\n</Document>'\n",
    "            for doc in search_docs\n",
    "        ]\n",
    "    )\n",
    "\n",
    "    return {\"context\": [formatted_search_docs]}"
   ]
  },
  {
   "cell_type": "markdown",
   "metadata": {},
   "source": [
    "#### Nodes to Answer the question, Save the interview, and The Router"
   ]
  },
  {
   "cell_type": "code",
   "execution_count": 60,
   "metadata": {},
   "outputs": [],
   "source": [
    "# Node to answer the question posed by analyst based on the Retrieved Context\n",
    "\n",
    "answer_instructions = \"\"\"You are an expert being interviewed by an analyst.\n",
    "\n",
    "Here is analyst area of focus: {goals}. \n",
    "        \n",
    "You goal is to answer a question posed by the interviewer.\n",
    "\n",
    "To answer question, use this context:\n",
    "        \n",
    "{context}\n",
    "\n",
    "When answering questions, follow these guidelines:\n",
    "        \n",
    "1. Use only the information provided in the context. \n",
    "        \n",
    "2. Do not introduce external information or make assumptions beyond what is explicitly stated in the context.\n",
    "\n",
    "3. The context contain sources at the topic of each individual document.\n",
    "\n",
    "4. Include these sources your answer next to any relevant statements. For example, for source # 1 use [1]. \n",
    "\n",
    "5. List your sources in order at the bottom of your answer. [1] Source 1, [2] Source 2, etc\n",
    "        \n",
    "6. If the source is: <Document source=\"assistant/docs/llama3_1.pdf\" page=\"7\"/>' then just list: \n",
    "        \n",
    "[1] assistant/docs/llama3_1.pdf, page 7 \n",
    "        \n",
    "And skip the addition of the brackets as well as the Document source preamble in your citation.\"\"\"\n",
    "\n",
    "def generate_answer(state: InterviewState):\n",
    "    \"\"\"Node to answer a question\"\"\"\n",
    "\n",
    "    # Get state\n",
    "    analyst = state[\"analyst\"]\n",
    "    messages = state[\"messages\"]\n",
    "    context = state[\"context\"]\n",
    "\n",
    "    # Generate Answer\n",
    "    system_message = answer_instructions.format(goals=analyst.persona, context=context)\n",
    "    answer = llm.invoke([SystemMessage(content=system_message)]+messages)\n",
    "\n",
    "    # Tag the message as coming from the Expert\n",
    "    answer.name = \"expert\"\n",
    "\n",
    "    # Append it to state\n",
    "    return {\"messages\": [answer]}\n",
    "\n",
    "# Node to save the interview\n",
    "def save_interview(state: InterviewState):\n",
    "    \n",
    "    \"\"\" Save the interview once over \"\"\"\n",
    "    # Get messages\n",
    "    messages = state[\"messages\"]\n",
    "    \n",
    "    # Convert interview to a string\n",
    "    interview = get_buffer_string(messages)\n",
    "    \n",
    "    # Save to interviews key\n",
    "    return {\"interview\": interview}\n",
    "\n",
    "# Router\n",
    "def route_messages(state: InterviewState, \n",
    "                   name: str = \"expert\"):\n",
    "\n",
    "    \"\"\" Route between question and answer \"\"\"\n",
    "    \n",
    "    # Get messages\n",
    "    messages = state[\"messages\"]\n",
    "    max_num_turns = state.get('max_num_turns',2)\n",
    "\n",
    "    # Check the number of expert answers \n",
    "    num_responses = len(\n",
    "        [m for m in messages if isinstance(m, AIMessage) and m.name == name]\n",
    "    )\n",
    "\n",
    "    # End if expert has answered more than the max turns\n",
    "    if num_responses >= max_num_turns:\n",
    "        return 'save_interview'\n",
    "\n",
    "    # This router is run after each question - answer pair \n",
    "    # Get the last question asked to check if it signals the end of discussion\n",
    "    last_question = messages[-2]\n",
    "    \n",
    "    if \"Thank you so much for your help\" in last_question.content:\n",
    "        return 'save_interview'\n",
    "    return \"generate_question\""
   ]
  },
  {
   "cell_type": "markdown",
   "metadata": {},
   "source": [
    "#### Node to Create a Summary of The Interview"
   ]
  },
  {
   "cell_type": "code",
   "execution_count": 61,
   "metadata": {},
   "outputs": [],
   "source": [
    "section_writer_instructions = \"\"\"You are an expert technical writer. \n",
    "            \n",
    "Your task is to create a short, easily digestible section of a report based on a set of source documents.\n",
    "\n",
    "1. Analyze the content of the source documents: \n",
    "- The name of each source document is at the start of the document, with the <Document tag.\n",
    "        \n",
    "2. Create a report structure using markdown formatting:\n",
    "- Use ## for the section title\n",
    "- Use ### for sub-section headers\n",
    "        \n",
    "3. Write the report following this structure:\n",
    "a. Title (## header)\n",
    "b. Summary (### header)\n",
    "c. Sources (### header)\n",
    "\n",
    "4. Make your title engaging based upon the focus area of the analyst: \n",
    "{focus}\n",
    "\n",
    "5. For the summary section:\n",
    "- Set up summary with general background / context related to the focus area of the analyst\n",
    "- Emphasize what is novel, interesting, or surprising about insights gathered from the interview\n",
    "- Create a numbered list of source documents, as you use them\n",
    "- Do not mention the names of interviewers or experts\n",
    "- Aim for approximately 400 words maximum\n",
    "- Use numbered sources in your report (e.g., [1], [2]) based on information from source documents\n",
    "        \n",
    "6. In the Sources section:\n",
    "- Include all sources used in your report\n",
    "- Provide full links to relevant websites or specific document paths\n",
    "- Separate each source by a newline. Use two spaces at the end of each line to create a newline in Markdown.\n",
    "- It will look like:\n",
    "\n",
    "### Sources\n",
    "[1] Link or Document name\n",
    "[2] Link or Document name\n",
    "\n",
    "7. Be sure to combine sources. For example this is not correct:\n",
    "\n",
    "[3] https://ai.meta.com/blog/meta-llama-3-1/\n",
    "[4] https://ai.meta.com/blog/meta-llama-3-1/\n",
    "\n",
    "There should be no redundant sources. It should simply be:\n",
    "\n",
    "[3] https://ai.meta.com/blog/meta-llama-3-1/\n",
    "        \n",
    "8. Final review:\n",
    "- Ensure the report follows the required structure\n",
    "- Include no preamble before the title of the report\n",
    "- Check that all guidelines have been followed\"\"\"\n",
    "\n",
    "def write_section(state: InterviewState):\n",
    "    \"\"\" Node to Generate the summary/ section report \"\"\"\n",
    "\n",
    "    # Get state\n",
    "    interview = state[\"interview\"]\n",
    "    context = state[\"context\"]\n",
    "    analyst = state[\"analyst\"]\n",
    "   \n",
    "    # Write section using either the gathered source docs from interview (context) or the interview itself (interview)\n",
    "    system_message = section_writer_instructions.format(focus=analyst.description)\n",
    "    section = llm.invoke([SystemMessage(content=system_message)]+[HumanMessage(content=f\"Use this source to write your section: {context}\")]) \n",
    "                \n",
    "    # Append it to state\n",
    "    return {\"sections\": [section.content]}"
   ]
  },
  {
   "cell_type": "markdown",
   "metadata": {},
   "source": [
    "#### Compile the Conduct Interview Graph"
   ]
  },
  {
   "cell_type": "code",
   "execution_count": 62,
   "metadata": {},
   "outputs": [
    {
     "data": {
      "image/jpeg": "[encoded data removed]",
      "text/plain": [
       "<IPython.core.display.Image object>"
      ]
     },
     "metadata": {},
     "output_type": "display_data"
    }
   ],
   "source": [
    "interview_builder = StateGraph(InterviewState)\n",
    "# Add Nodes\n",
    "interview_builder.add_node('generate_question',generate_question)\n",
    "interview_builder.add_node('search_web',search_web)\n",
    "interview_builder.add_node('search_wikipedia',search_wikipedia)\n",
    "interview_builder.add_node('generate_answer',generate_answer)\n",
    "interview_builder.add_node('save_interview',save_interview)\n",
    "interview_builder.add_node('write_section',write_section)\n",
    "\n",
    "# Add Edges\n",
    "interview_builder.add_edge(START, 'generate_question')\n",
    "interview_builder.add_edge('generate_question','search_web')\n",
    "interview_builder.add_edge('generate_question','search_wikipedia')\n",
    "interview_builder.add_edge('search_web','generate_answer')\n",
    "interview_builder.add_edge('search_wikipedia','generate_answer')\n",
    "interview_builder.add_conditional_edges('generate_answer',route_messages, \n",
    "                                        path_map={'save_interview':'save_interview',\n",
    "                                                  'generate_question':'generate_question'})\n",
    "interview_builder.add_edge('save_interview','write_section')\n",
    "interview_builder.add_edge('write_section',END)\n",
    "\n",
    "# Memory \n",
    "memory = MemorySaver()\n",
    "interview_graph = interview_builder.compile(checkpointer=memory).with_config(run_name=\"Conduct Interviews\")\n",
    "display(Image(interview_graph.get_graph().draw_mermaid_png()))"
   ]
  },
  {
   "cell_type": "code",
   "execution_count": 63,
   "metadata": {},
   "outputs": [
    {
     "data": {
      "text/plain": [
       "{'run_name': 'Conduct Interviews', 'configurable': {}}"
      ]
     },
     "execution_count": 63,
     "metadata": {},
     "output_type": "execute_result"
    }
   ],
   "source": [
    "interview_graph.config"
   ]
  },
  {
   "cell_type": "markdown",
   "metadata": {},
   "source": [
    "#### Sample Run"
   ]
  },
  {
   "cell_type": "code",
   "execution_count": 64,
   "metadata": {},
   "outputs": [
    {
     "data": {
      "text/plain": [
       "Analyst(affiliation='Tech Startup', name='Alex Johnson', role='Entrepreneur', description='Alex is a co-founder of a tech startup that specializes in AI-driven solutions. He is focused on the practical applications and scalability of adopting LangGraph as an agent framework, particularly in how it can drive innovation and competitive advantage for startups.')"
      ]
     },
     "execution_count": 64,
     "metadata": {},
     "output_type": "execute_result"
    }
   ],
   "source": [
    "# Pick an Analyst\n",
    "analysts[0]"
   ]
  },
  {
   "cell_type": "code",
   "execution_count": 65,
   "metadata": {},
   "outputs": [
    {
     "data": {
      "text/plain": [
       "'The benefits of adopting LangGraph as an agent framework'"
      ]
     },
     "execution_count": 65,
     "metadata": {},
     "output_type": "execute_result"
    }
   ],
   "source": [
    "topic"
   ]
  },
  {
   "cell_type": "code",
   "execution_count": 66,
   "metadata": {},
   "outputs": [
    {
     "data": {
      "text/markdown": [
       "## Leveraging LangGraph for AI-Driven Innovation in Startups\n",
       "\n",
       "### Summary\n",
       "\n",
       "In the rapidly evolving landscape of AI-driven solutions, selecting the right agent framework is crucial for startups aiming to gain a competitive edge. LangGraph emerges as a compelling choice, particularly for tech startups focused on practical applications and scalability. This report delves into the unique features of LangGraph and its potential to drive innovation and competitive advantage.\n",
       "\n",
       "LangGraph is an AI agent framework that implements agent interactions as stateful graphs, where nodes represent functions or computational steps connected via edges. This architecture allows for the visualization of complex tasks and mapping out dependencies, making it ideal for structured workflows [1]. Unlike other frameworks, LangGraph supports the implementation of more complex agentic workflows, offering built-in persistence and support for various memory strategies to optimize token usage [2].\n",
       "\n",
       "One of the novel aspects of LangGraph is its flexibility in using multiple large language models (LLMs) at different stages of the workflow. This allows the agent to select the most suitable LLM based on the current task, enhancing efficiency and effectiveness [3]. Additionally, LangGraph's graph-based architecture provides fine-grained control over the flow and state of agent applications, drawing inspiration from distributed computing models like Pregel and processing frameworks like Apache Beam [2].\n",
       "\n",
       "The framework's design emphasizes stateful execution, allowing applications to maintain context across interactions. This is particularly beneficial for startups looking to build scalable and maintainable AI systems, as it ensures that AI initiatives are not just demos or one-off scripts but long-term strategic assets [4]. LangGraph also supports sandboxed code execution for safe evaluation of generated code, comprehensive error handling, and diagnostic logging, creating a development experience focused on building production-ready agent systems [2].\n",
       "\n",
       "For startups, the ability to precisely control when and how agents interact is a significant advantage. LangGraph's nodes and edges act like a playbook, allowing for phases in the workflow where agents work in parallel, and points where the workflow pauses for decisions or input [4]. This capability can be leveraged to handle tasks that were once bottlenecks, thereby gaining an edge in customer responsiveness, data analysis, and innovation capacity.\n",
       "\n",
       "In conclusion, LangGraph offers a robust framework for startups aiming to harness the power of AI agents. Its unique features and architecture provide the tools necessary to build scalable, efficient, and innovative AI-driven solutions, positioning startups for success in a competitive market.\n",
       "\n",
       "### Sources\n",
       "[1] https://oyelabs.com/langgraph-vs-crewai-vs-openai-swarm-ai-agent-framework/  \n",
       "[2] https://developer.ibm.com/articles/awb-comparing-ai-agent-frameworks-crewai-langgraph-and-beeai/  \n",
       "[3] https://medium.com/cyberark-engineering/building-production-ready-ai-agents-with-langgraph-a-real-life-use-case-7bda34c7f4e4  \n",
       "[4] https://www.scalablepath.com/machine-learning/langgraph  "
      ],
      "text/plain": [
       "<IPython.core.display.Markdown object>"
      ]
     },
     "execution_count": 66,
     "metadata": {},
     "output_type": "execute_result"
    }
   ],
   "source": [
    "from IPython.display import Markdown\n",
    "messages = []\n",
    "thread = {\"configurable\": {\"thread_id\": \"2\"}}\n",
    "interview = interview_graph.invoke({\"analyst\": analysts[0], \"messages\": messages, \"max_num_turns\": 2}, thread)\n",
    "Markdown(interview['sections'][0])"
   ]
  },
  {
   "cell_type": "code",
   "execution_count": 67,
   "metadata": {},
   "outputs": [
    {
     "data": {
      "text/plain": [
       "StateSnapshot(values={'messages': [AIMessage(content=\"Hello, I'm Alex Johnson, co-founder of a tech startup focused on AI-driven solutions. I'm particularly interested in understanding how adopting LangGraph as an agent framework can drive innovation and provide a competitive edge for startups like mine. Could you explain what makes LangGraph unique compared to other agent frameworks?\", additional_kwargs={'refusal': None}, response_metadata={'token_usage': {'completion_tokens': 58, 'prompt_tokens': 227, 'total_tokens': 285, 'completion_tokens_details': {'accepted_prediction_tokens': 0, 'audio_tokens': 0, 'reasoning_tokens': 0, 'rejected_prediction_tokens': 0}, 'prompt_tokens_details': {'audio_tokens': 0, 'cached_tokens': 0}}, 'model_name': 'gpt-4o-2024-08-06', 'system_fingerprint': 'fp_07871e2ad8', 'finish_reason': 'stop', 'logprobs': None}, id='run-2ba398c5-e380-49ce-a47e-da6afbb79b6f-0', usage_metadata={'input_tokens': 227, 'output_tokens': 58, 'total_tokens': 285}), AIMessage(content='LangGraph stands out as an AI agent framework due to its graph-based architecture, which is particularly effective for visualizing complex tasks and mapping out dependencies. This makes it ideal for structured workflows, allowing for a clear representation of the interactions and processes involved in AI-driven solutions [1]. \\n\\nOne of the key features of LangGraph is its implementation of agent interactions as stateful graphs, where nodes represent functions or computational steps connected via edges. This setup allows for maintaining an agent state shared among all nodes and edges, providing a cohesive and integrated approach to managing workflows [2]. \\n\\nAdditionally, LangGraph supports various memory strategies for optimizing token usage, structured output generation, and sandboxed code execution, which ensures safe evaluation of generated code. These features, combined with comprehensive error handling and diagnostic logging, create a development experience focused on building production-ready agent systems [3]. \\n\\nFor startups, the ability to maintain context across interactions and have fine-grained control over both the flow and state of agent applications through a central persistence layer can drive innovation and provide a competitive advantage by enabling more efficient and scalable AI solutions [3].\\n\\nSources:\\n[1] oyelabs.com/langgraph-vs-crewai-vs-openai-swarm-ai-agent-framework\\n[2] getzep.com/ai-agents/langgraph-tutorial\\n[3] developer.ibm.com/articles/awb-comparing-ai-agent-frameworks-crewai-langgraph-and-beeai', additional_kwargs={'refusal': None}, response_metadata={'token_usage': {'completion_tokens': 285, 'prompt_tokens': 2530, 'total_tokens': 2815, 'completion_tokens_details': {'accepted_prediction_tokens': 0, 'audio_tokens': 0, 'reasoning_tokens': 0, 'rejected_prediction_tokens': 0}, 'prompt_tokens_details': {'audio_tokens': 0, 'cached_tokens': 0}}, 'model_name': 'gpt-4o-2024-08-06', 'system_fingerprint': 'fp_a288987b44', 'finish_reason': 'stop', 'logprobs': None}, name='expert', id='run-fb2988ad-9e06-4e05-b946-bf9540c3bf27-0', usage_metadata={'input_tokens': 2530, 'output_tokens': 285, 'total_tokens': 2815}), AIMessage(content=\"That's fascinating! Could you provide a specific example of how a startup might leverage LangGraph to gain a competitive advantage in a practical application?\", additional_kwargs={'refusal': None}, response_metadata={'token_usage': {'completion_tokens': 27, 'prompt_tokens': 580, 'total_tokens': 607, 'completion_tokens_details': {'accepted_prediction_tokens': 0, 'audio_tokens': 0, 'reasoning_tokens': 0, 'rejected_prediction_tokens': 0}, 'prompt_tokens_details': {'audio_tokens': 0, 'cached_tokens': 0}}, 'model_name': 'gpt-4o-2024-08-06', 'system_fingerprint': 'fp_07871e2ad8', 'finish_reason': 'stop', 'logprobs': None}, id='run-3a67f80b-e70e-4389-b651-713759907d03-0', usage_metadata={'input_tokens': 580, 'output_tokens': 27, 'total_tokens': 607}), AIMessage(content=\"Certainly! A practical example of how a startup might leverage LangGraph is by developing an AI agent designed to calculate potential energy savings for solar panels based on user input. This agent can be implemented as a lead generation tool on a solar panel seller’s website, where it interacts with potential customers to offer personalized savings estimates. By gathering key data such as monthly electricity costs, the agent can provide tailored insights, enhancing customer engagement and potentially increasing sales [4].\\n\\nLangGraph's flexibility allows the use of multiple large language models (LLMs) at different stages of the workflow, rather than relying on a single LLM. This means the agent can select the most suitable LLM based on the current task, such as using one LLM specialized in tool invocation and task processing, and another better suited for generating and formatting email content in HTML [5]. This adaptability can significantly enhance the efficiency and effectiveness of the AI solution, providing a competitive edge by offering a more personalized and responsive customer experience.\\n\\nSources:\\n[4] medium.com/@lorevanoudenhove/how-to-build-ai-agents-with-langgraph-a-step-by-step-guide-5d84d9c7e832\\n[5] medium.com/cyberark-engineering/building-production-ready-ai-agents-with-langgraph-a-real-life-use-case-7bda34c7f4e4\", additional_kwargs={'refusal': None}, response_metadata={'token_usage': {'completion_tokens': 272, 'prompt_tokens': 4967, 'total_tokens': 5239, 'completion_tokens_details': {'accepted_prediction_tokens': 0, 'audio_tokens': 0, 'reasoning_tokens': 0, 'rejected_prediction_tokens': 0}, 'prompt_tokens_details': {'audio_tokens': 0, 'cached_tokens': 2176}}, 'model_name': 'gpt-4o-2024-08-06', 'system_fingerprint': 'fp_a288987b44', 'finish_reason': 'stop', 'logprobs': None}, name='expert', id='run-53ea070e-98b7-498a-ac32-b1ddc742882a-0', usage_metadata={'input_tokens': 4967, 'output_tokens': 272, 'total_tokens': 5239})], 'max_num_turns': 2, 'context': ['<Document href=\"https://oyelabs.com/langgraph-vs-crewai-vs-openai-swarm-ai-agent-framework/\"/>\\nChoosing the right AI agent framework can be overwhelming with so many options available. LangGraph, CrewAI, and OpenAI Swarm are three of the most popular frameworks, each offering unique features suited to different use cases. LangGraph excels at visualizing complex tasks and mapping out dependencies, making it ideal for structured workflows. CrewAI emphasizes collaboration, enabling seamless interaction between AI agents and humans, making it perfect for industries like healthcare and [...] In the world of AI and automation, frameworks are essential for building efficient, scalable, and high-performing systems. Each framework offers unique features and focuses on different aspects of agent-based applications. Here, we introduce five popular agent frameworks—LangGraph, CrewAI, OpenAI Swarm, LlamaIndex, and AutoGen—each designed to cater to specific needs and use cases in the AI development ecosystem.\\n\\n#### LangGraph\\n</Document>\\n\\n---\\n\\n<Document href=\"https://www.getzep.com/ai-agents/langgraph-tutorial\"/>\\nConcept | Description\\nWhat is LangGraph? | LangGraph is an AI agent framework that implements agent interactions as\\n      stateful graphs. Nodes represent functions or computational steps that are\\n      connected via edges. LangGraph maintains an agent state shared among all\\n      the nodes and edges.Unlike LangChain, LangGraph supports the implementation of more complex\\n      agentic workflows. Key features include built-in persistence, support for\\n</Document>\\n\\n---\\n\\n<Document href=\"https://developer.ibm.com/articles/awb-comparing-ai-agent-frameworks-crewai-langgraph-and-beeai\"/>\\nThe framework also supports various memory strategies for optimizing token usage, structured output generation, and sandboxed code execution for safe evaluation of generated code. These features, combined with comprehensive error handling and diagnostic logging, create a development experience focused on building production-ready agent systems.\\n\\nKey features comparison\\n----------------------- [...] LangGraph implements a graph-based architecture focused on managing application state through a central persistence layer. This architecture draws inspiration from established distributed computing models like Pregel and processing frameworks like Apache Beam, with a public interface reminiscent of NetworkX. The framework\\'s design emphasizes stateful execution, allowing applications to maintain context across interactions. [...] LangGraph provides a library for developing stateful, multi-actor applications with large language models (LLMs), specifically designed for creating agent and multi-agent workflows. LangGraph is built by LangChain Inc. but can operate independently of the LangChain framework. The library excels in providing fine-grained control over both the flow and state of agent applications through a central persistence layer.\\n</Document>', '<Document source=\"https://en.wikipedia.org/wiki/Wikipedia\" page=\"\"/>\\nWikipedia is a free online encyclopedia that is written and maintained by a community of volunteers, known as Wikipedians, through open collaboration and the wiki software MediaWiki. Founded by Jimmy Wales and Larry Sanger in 2001, Wikipedia has been hosted since 2003 by the Wikimedia Foundation, an American nonprofit organization funded mainly by donations from readers. Wikipedia is the largest and most-read reference work in history.\\nInitially available only in English, Wikipedia exists in over 340 languages. The English Wikipedia, with over 7 million articles, remains the largest of the editions, which together comprise more than 65 million articles and attract more than 1.5 billion unique device visits and 13 million edits per month (about 5 edits per second on average)  as of April 2024. As of May 2025, over 25% of Wikipedia\\'s traffic comes from the United States, while Japan, the United Kingdom, Germany and Russia each account for around 5%.\\nWikipedia has been praised for enabling the democratization of knowledge, its extensive coverage, unique structure, and culture. Wikipedia has been censored by some national governments, ranging from specific pages to the entire site. Although Wikipedia\\'s volunteer editors have written extensively on a wide variety of topics, the encyclopedia has been criticized for systemic bias, such as a gender bias against women and geographical bias against the Global South (Eurocentrism). While the reliability of Wikipedia was frequently criticized in the 2000s, it has improved over time, receiving greater praise from the late 2010s onward. Articles on breaking news are often accessed as sources for up-to-date information about those events.\\n\\n\\n== History ==\\n\\n\\n=== Nupedia ===\\n\\nVarious collaborative online encyclopedias were attempted before the start of Wikipedia, but with limited success. Wikipedia began as a complementary project for Nupedia, a free online English-language encyclopedia project whose articles were written by experts and reviewed under a formal process. It was founded on March 9, 2000, under the ownership of Bomis, a web portal company. Its main figures were Bomis CEO Jimmy Wales and Larry Sanger, editor-in-chief for Nupedia and later Wikipedia. Nupedia was initially licensed under its own Nupedia Open Content License, but before Wikipedia was founded, Nupedia switched to the GNU Free Documentation License at the urging of Richard Stallman. Wales is credited with defining the goal of making a publicly editable encyclopedia, while Sanger is credited with the strategy of using a wiki to reach that goal. On January 10, 2001, Sanger proposed on the Nupedia mailing list to create a wiki as a \"feeder\" project for Nupedia.\\n\\n\\n=== Launch and rapid growth ===\\nWikipedia was launched on January 15, 2001 (referred to as Wikipedia Day) as a single English language edition with the domain name www.wikipedia.com, and was announced by Sanger on the Nupedia mailing list. The name originated from a blend of the words wiki and encyclopedia. Its integral policy of \"neutral point-of-view\" was codified in its first few months. Otherwise, there were initially relatively few rules, and it operated independently of Nupedia. Bomis originally intended for it to be a for-profit business.\\n\\nWikipedia gained early contributors from Nupedia, Slashdot postings, and web search engine indexing. Language editions were created beginning in March 2001, with a total of 161 in use by the end of 2004. Nupedia and Wikipedia coexisted until the former\\'s servers were taken down permanently in 2003, and its text was incorporated into Wikipedia. The English Wikipedia passed the mark of 2 million articles on September 9, 2007, making it the largest encyclopedia ever assembled, surpassing the Yongle Encyclopedia made in China during the Ming dynasty in 1408, which had held the record for almost 600 years.\\nCiting fears of commercial advertising and lack of control, users of the Spanish Wikipedia forked from Wikipedia to create \\n</Document>\\n\\n---\\n\\n<Document source=\"https://en.wikipedia.org/wiki/Deep_learning\" page=\"\"/>\\nIn machine learning, deep learning focuses on utilizing multilayered neural networks to perform tasks such as classification, regression, and representation learning. The field takes inspiration from biological neuroscience and is centered around stacking artificial neurons into layers and \"training\" them to process data. The adjective \"deep\" refers to the use of multiple layers (ranging from three to several hundred or thousands) in the network. Methods used can be supervised, semi-supervised or unsupervised.\\nSome common deep learning network architectures include fully connected networks, deep belief networks, recurrent neural networks, convolutional neural networks, generative adversarial networks, transformers, and neural radiance fields. These architectures have been applied to fields including computer vision, speech recognition, natural language processing, machine translation, bioinformatics, drug design, medical image analysis, climate science, material inspection and board game programs, where they have produced results comparable to and in some cases surpassing human expert performance.\\nEarly forms of neural networks were inspired by information processing and distributed communication nodes in biological systems, particularly the human brain. However, current neural networks do not intend to model the brain function of organisms, and are generally seen as low-quality models for that purpose.\\n\\n\\n== Overview ==\\nMost modern deep learning models are based on multi-layered neural networks such as convolutional neural networks and transformers, although they can also include propositional formulas or latent variables organized layer-wise in deep generative models such as the nodes in deep belief networks and deep Boltzmann machines.\\nFundamentally, deep learning refers to a class of machine learning algorithms in which a hierarchy of layers is used to transform input data into a progressively more abstract and composite representation. For example, in an image recognition model, the raw input may be an image (represented as a tensor of pixels). The first representational layer may attempt to identify basic shapes such as lines and circles, the second layer may compose and encode arrangements of edges, the third layer may encode a nose and eyes, and the fourth layer may recognize that the image contains a face.\\nImportantly, a deep learning process can learn which features to optimally place at which level on its own. Prior to deep learning, machine learning techniques often involved hand-crafted feature engineering to transform the data into a more suitable representation for a classification algorithm to operate on. In the deep learning approach, features are not hand-crafted and the model discovers useful feature representations from the data automatically. This does not eliminate the need for hand-tuning; for example, varying numbers of layers and layer sizes can provide different degrees of abstraction.\\nThe word \"deep\" in \"deep learning\" refers to the number of layers through which the data is transformed. More precisely, deep learning systems have a substantial credit assignment path (CAP) depth. The CAP is the chain of transformations from input to output. CAPs describe potentially causal connections between input and output. For a feedforward neural network, the depth of the CAPs is that of the network and is the number of hidden layers plus one (as the output layer is also parameterized). For recurrent neural networks, in which a signal may propagate through a layer more than once, the CAP depth is potentially unlimited. No universally agreed-upon threshold of depth divides shallow learning from deep learning, but most researchers agree that deep learning involves CAP depth higher than two. CAP of depth two has been shown to be a universal approximator in the sense that it can emulate any function. Beyond that, more layers do not add to the function approximator ability of the network. Deep models (CAP > two) are ab\\n</Document>', '<Document href=\"https://medium.com/cyberark-engineering/building-production-ready-ai-agents-with-langgraph-a-real-life-use-case-7bda34c7f4e4\"/>\\nOne of LangGraph’s key advantages is the flexibility to use multiple LLMs at different stages of the workflow, rather than relying on a single LLM with one large prompt. This allows the agent to select the most suitable LLM based on the current task. For example, you can use one LLM specialized in tool invocation and task processing, and another that is better suited for generating and formatting email content in HTML.\\n</Document>\\n\\n---\\n\\n<Document href=\"https://www.scalablepath.com/machine-learning/langgraph\"/>\\nAnother advantage of the LangGraph approach is that one can precisely control when and how agents interact. The graph’s edges and nodes act like a playbook for the team of agents. One can have phases in the workflow where agents work in parallel, and then points where the workflow pauses and awaits a decision or input. [...] In fact, the rapid adoption of AI agents by companies indicates a strategic shift. Early movers are using AI agents to handle tasks that were once bottlenecks, gaining an edge in customer responsiveness, data analysis, and innovation capacity. Using a framework like LangGraph ensures these AI initiatives are scalable and maintainable, so one is building a long-term strategic asset, not just a demo or one-off script.\\n\\n### Practical Gains: Save Time and Money While Reducing Errors [...] Especially in fast-moving industries, keeping abreast of the competition is important. Businesses can leverage multiple agents to stay on top of industry news and competitor moves. For example, one agent scrapes news feeds or social media for mentions of competitors, another summarizes the findings weekly, and another drafts a briefing for a strategy team. The LangGraph workflow could include guardrails to ensure only relevant info is gathered and escalate anything truly critical for immediate\\n</Document>\\n\\n---\\n\\n<Document href=\"https://medium.com/@lorevanoudenhove/how-to-build-ai-agents-with-langgraph-a-step-by-step-guide-5d84d9c7e832\"/>\\nNow that we have a solid understanding of what LangGraph is and how it enhances AI development, let’s dive into a practical example. In this scenario, we’ll build an AI agent designed to calculate potential energy savings for solar panels based on user input. This agent can be implemented as a lead generation tool on a solar panel seller’s website, where it interacts with potential customers, offering personalized savings estimates. By gathering key data such as monthly electricity costs, this\\n</Document>', '<Document source=\"https://en.wikipedia.org/wiki/Social_network_analysis\" page=\"\"/>\\nSocial network analysis (SNA) is the process of investigating social structures  through the use of networks and graph theory. It characterizes networked structures in terms of nodes (individual actors, people, or things within the network) and the ties, edges, or links (relationships or interactions) that connect them.  Examples of social structures commonly visualized through social network analysis include social media networks, meme proliferation, information circulation, friendship and acquaintance networks, business networks, knowledge networks, difficult working relationships, collaboration graphs, kinship, disease transmission, and sexual relationships. These networks are often visualized through sociograms in which nodes are represented as points and ties are represented as lines. These visualizations provide a means of qualitatively assessing networks by varying the visual representation of their nodes and edges to reflect attributes of interest.\\nSocial network analysis has emerged as a key technique in modern sociology. It has also gained significant popularity in the following: anthropology, biology, demography, communication studies, economics, geography, history, information science, organizational studies, physics, political science, public health,  social psychology, development studies, sociolinguistics, and computer science, education and distance education research, and is now commonly available as a consumer tool (see the list of SNA software).\\n\\n\\n== History ==\\nSocial network analysis has its theoretical roots in the work of early sociologists such as Georg Simmel and Émile Durkheim, who wrote about the importance of studying patterns of relationships that connect social actors. Social scientists have used the concept of \"social networks\" since early in the 20th century to connote complex sets of relationships between members of social systems at all scales, from interpersonal to international.\\nIn the 1930s Jacob Moreno and Helen Jennings introduced basic analytical methods. In 1954, John Arundel Barnes started using the term systematically to denote patterns of ties, encompassing concepts traditionally used by the public and those used by social scientists: bounded groups (e.g., tribes, families) and social categories (e.g., gender, ethnicity).\\nStarting in the 1970s, scholars such as Ronald Burt, Kathleen Carley, Mark Granovetter, David Krackhardt, Edward Laumann, Anatol Rapoport, Barry Wellman, Douglas R. White, and Harrison White expanded the use of systematic social network analysis.\\nBeginning in the late 1990s, social network analysis experienced a further resurgence with work by sociologists, political scientists, economists, computer scientists, and physicists such as Duncan J. Watts, Albert-László Barabási, Peter Bearman, Nicholas A. Christakis, James H. Fowler, Mark Newman, Matthew Jackson, Jon Kleinberg, and others, developing and applying new models and methods, prompted in part by the emergence of new data available about online social networks as well as \"digital traces\" regarding face-to-face networks.\\nComputational SNA has been extensively used in research on study-abroad second language acquisition. Even in the study of literature, network analysis has been applied by Anheier, Gerhards and Romo, Wouter De Nooy, and Burgert Senekal. Indeed, social network analysis has found applications in various academic disciplines as well as practical contexts such as countering money laundering and terrorism.\\n\\n\\n== Metrics ==\\nMetrics encountered in social network analysis include those measuring the size, the nature of connections between members being analyzed, distribution, and segmentation - including subsets such as multiplexity, propinquity, density, centrality, and cohesion.\\n\\n\\n=== Size ===\\nSize: The number of network members in a given network.\\n\\n\\n=== Connections ===\\nHomophily: The extent to which actors form ties with similar versus dissimilar others. Similarity can be defined by gender, race, age, o\\n</Document>\\n\\n---\\n\\n<Document source=\"https://en.wikipedia.org/wiki/Deep_learning\" page=\"\"/>\\nIn machine learning, deep learning focuses on utilizing multilayered neural networks to perform tasks such as classification, regression, and representation learning. The field takes inspiration from biological neuroscience and is centered around stacking artificial neurons into layers and \"training\" them to process data. The adjective \"deep\" refers to the use of multiple layers (ranging from three to several hundred or thousands) in the network. Methods used can be supervised, semi-supervised or unsupervised.\\nSome common deep learning network architectures include fully connected networks, deep belief networks, recurrent neural networks, convolutional neural networks, generative adversarial networks, transformers, and neural radiance fields. These architectures have been applied to fields including computer vision, speech recognition, natural language processing, machine translation, bioinformatics, drug design, medical image analysis, climate science, material inspection and board game programs, where they have produced results comparable to and in some cases surpassing human expert performance.\\nEarly forms of neural networks were inspired by information processing and distributed communication nodes in biological systems, particularly the human brain. However, current neural networks do not intend to model the brain function of organisms, and are generally seen as low-quality models for that purpose.\\n\\n\\n== Overview ==\\nMost modern deep learning models are based on multi-layered neural networks such as convolutional neural networks and transformers, although they can also include propositional formulas or latent variables organized layer-wise in deep generative models such as the nodes in deep belief networks and deep Boltzmann machines.\\nFundamentally, deep learning refers to a class of machine learning algorithms in which a hierarchy of layers is used to transform input data into a progressively more abstract and composite representation. For example, in an image recognition model, the raw input may be an image (represented as a tensor of pixels). The first representational layer may attempt to identify basic shapes such as lines and circles, the second layer may compose and encode arrangements of edges, the third layer may encode a nose and eyes, and the fourth layer may recognize that the image contains a face.\\nImportantly, a deep learning process can learn which features to optimally place at which level on its own. Prior to deep learning, machine learning techniques often involved hand-crafted feature engineering to transform the data into a more suitable representation for a classification algorithm to operate on. In the deep learning approach, features are not hand-crafted and the model discovers useful feature representations from the data automatically. This does not eliminate the need for hand-tuning; for example, varying numbers of layers and layer sizes can provide different degrees of abstraction.\\nThe word \"deep\" in \"deep learning\" refers to the number of layers through which the data is transformed. More precisely, deep learning systems have a substantial credit assignment path (CAP) depth. The CAP is the chain of transformations from input to output. CAPs describe potentially causal connections between input and output. For a feedforward neural network, the depth of the CAPs is that of the network and is the number of hidden layers plus one (as the output layer is also parameterized). For recurrent neural networks, in which a signal may propagate through a layer more than once, the CAP depth is potentially unlimited. No universally agreed-upon threshold of depth divides shallow learning from deep learning, but most researchers agree that deep learning involves CAP depth higher than two. CAP of depth two has been shown to be a universal approximator in the sense that it can emulate any function. Beyond that, more layers do not add to the function approximator ability of the network. Deep models (CAP > two) are ab\\n</Document>'], 'analyst': Analyst(affiliation='Tech Startup', name='Alex Johnson', role='Entrepreneur', description='Alex is a co-founder of a tech startup that specializes in AI-driven solutions. He is focused on the practical applications and scalability of adopting LangGraph as an agent framework, particularly in how it can drive innovation and competitive advantage for startups.'), 'interview': \"AI: Hello, I'm Alex Johnson, co-founder of a tech startup focused on AI-driven solutions. I'm particularly interested in understanding how adopting LangGraph as an agent framework can drive innovation and provide a competitive edge for startups like mine. Could you explain what makes LangGraph unique compared to other agent frameworks?\\nAI: LangGraph stands out as an AI agent framework due to its graph-based architecture, which is particularly effective for visualizing complex tasks and mapping out dependencies. This makes it ideal for structured workflows, allowing for a clear representation of the interactions and processes involved in AI-driven solutions [1]. \\n\\nOne of the key features of LangGraph is its implementation of agent interactions as stateful graphs, where nodes represent functions or computational steps connected via edges. This setup allows for maintaining an agent state shared among all nodes and edges, providing a cohesive and integrated approach to managing workflows [2]. \\n\\nAdditionally, LangGraph supports various memory strategies for optimizing token usage, structured output generation, and sandboxed code execution, which ensures safe evaluation of generated code. These features, combined with comprehensive error handling and diagnostic logging, create a development experience focused on building production-ready agent systems [3]. \\n\\nFor startups, the ability to maintain context across interactions and have fine-grained control over both the flow and state of agent applications through a central persistence layer can drive innovation and provide a competitive advantage by enabling more efficient and scalable AI solutions [3].\\n\\nSources:\\n[1] oyelabs.com/langgraph-vs-crewai-vs-openai-swarm-ai-agent-framework\\n[2] getzep.com/ai-agents/langgraph-tutorial\\n[3] developer.ibm.com/articles/awb-comparing-ai-agent-frameworks-crewai-langgraph-and-beeai\\nAI: That's fascinating! Could you provide a specific example of how a startup might leverage LangGraph to gain a competitive advantage in a practical application?\\nAI: Certainly! A practical example of how a startup might leverage LangGraph is by developing an AI agent designed to calculate potential energy savings for solar panels based on user input. This agent can be implemented as a lead generation tool on a solar panel seller’s website, where it interacts with potential customers to offer personalized savings estimates. By gathering key data such as monthly electricity costs, the agent can provide tailored insights, enhancing customer engagement and potentially increasing sales [4].\\n\\nLangGraph's flexibility allows the use of multiple large language models (LLMs) at different stages of the workflow, rather than relying on a single LLM. This means the agent can select the most suitable LLM based on the current task, such as using one LLM specialized in tool invocation and task processing, and another better suited for generating and formatting email content in HTML [5]. This adaptability can significantly enhance the efficiency and effectiveness of the AI solution, providing a competitive edge by offering a more personalized and responsive customer experience.\\n\\nSources:\\n[4] medium.com/@lorevanoudenhove/how-to-build-ai-agents-with-langgraph-a-step-by-step-guide-5d84d9c7e832\\n[5] medium.com/cyberark-engineering/building-production-ready-ai-agents-with-langgraph-a-real-life-use-case-7bda34c7f4e4\", 'sections': [\"## Leveraging LangGraph for AI-Driven Innovation in Startups\\n\\n### Summary\\n\\nIn the rapidly evolving landscape of AI-driven solutions, selecting the right agent framework is crucial for startups aiming to gain a competitive edge. LangGraph emerges as a compelling choice, particularly for tech startups focused on practical applications and scalability. This report delves into the unique features of LangGraph and its potential to drive innovation and competitive advantage.\\n\\nLangGraph is an AI agent framework that implements agent interactions as stateful graphs, where nodes represent functions or computational steps connected via edges. This architecture allows for the visualization of complex tasks and mapping out dependencies, making it ideal for structured workflows [1]. Unlike other frameworks, LangGraph supports the implementation of more complex agentic workflows, offering built-in persistence and support for various memory strategies to optimize token usage [2].\\n\\nOne of the novel aspects of LangGraph is its flexibility in using multiple large language models (LLMs) at different stages of the workflow. This allows the agent to select the most suitable LLM based on the current task, enhancing efficiency and effectiveness [3]. Additionally, LangGraph's graph-based architecture provides fine-grained control over the flow and state of agent applications, drawing inspiration from distributed computing models like Pregel and processing frameworks like Apache Beam [2].\\n\\nThe framework's design emphasizes stateful execution, allowing applications to maintain context across interactions. This is particularly beneficial for startups looking to build scalable and maintainable AI systems, as it ensures that AI initiatives are not just demos or one-off scripts but long-term strategic assets [4]. LangGraph also supports sandboxed code execution for safe evaluation of generated code, comprehensive error handling, and diagnostic logging, creating a development experience focused on building production-ready agent systems [2].\\n\\nFor startups, the ability to precisely control when and how agents interact is a significant advantage. LangGraph's nodes and edges act like a playbook, allowing for phases in the workflow where agents work in parallel, and points where the workflow pauses for decisions or input [4]. This capability can be leveraged to handle tasks that were once bottlenecks, thereby gaining an edge in customer responsiveness, data analysis, and innovation capacity.\\n\\nIn conclusion, LangGraph offers a robust framework for startups aiming to harness the power of AI agents. Its unique features and architecture provide the tools necessary to build scalable, efficient, and innovative AI-driven solutions, positioning startups for success in a competitive market.\\n\\n### Sources\\n[1] https://oyelabs.com/langgraph-vs-crewai-vs-openai-swarm-ai-agent-framework/  \\n[2] https://developer.ibm.com/articles/awb-comparing-ai-agent-frameworks-crewai-langgraph-and-beeai/  \\n[3] https://medium.com/cyberark-engineering/building-production-ready-ai-agents-with-langgraph-a-real-life-use-case-7bda34c7f4e4  \\n[4] https://www.scalablepath.com/machine-learning/langgraph  \"]}, next=(), config={'configurable': {'thread_id': '2', 'checkpoint_ns': '', 'checkpoint_id': '1f052db5-13fa-6d55-8008-9f9aa4b0a936'}}, metadata={'source': 'loop', 'writes': {'write_section': {'sections': [\"## Leveraging LangGraph for AI-Driven Innovation in Startups\\n\\n### Summary\\n\\nIn the rapidly evolving landscape of AI-driven solutions, selecting the right agent framework is crucial for startups aiming to gain a competitive edge. LangGraph emerges as a compelling choice, particularly for tech startups focused on practical applications and scalability. This report delves into the unique features of LangGraph and its potential to drive innovation and competitive advantage.\\n\\nLangGraph is an AI agent framework that implements agent interactions as stateful graphs, where nodes represent functions or computational steps connected via edges. This architecture allows for the visualization of complex tasks and mapping out dependencies, making it ideal for structured workflows [1]. Unlike other frameworks, LangGraph supports the implementation of more complex agentic workflows, offering built-in persistence and support for various memory strategies to optimize token usage [2].\\n\\nOne of the novel aspects of LangGraph is its flexibility in using multiple large language models (LLMs) at different stages of the workflow. This allows the agent to select the most suitable LLM based on the current task, enhancing efficiency and effectiveness [3]. Additionally, LangGraph's graph-based architecture provides fine-grained control over the flow and state of agent applications, drawing inspiration from distributed computing models like Pregel and processing frameworks like Apache Beam [2].\\n\\nThe framework's design emphasizes stateful execution, allowing applications to maintain context across interactions. This is particularly beneficial for startups looking to build scalable and maintainable AI systems, as it ensures that AI initiatives are not just demos or one-off scripts but long-term strategic assets [4]. LangGraph also supports sandboxed code execution for safe evaluation of generated code, comprehensive error handling, and diagnostic logging, creating a development experience focused on building production-ready agent systems [2].\\n\\nFor startups, the ability to precisely control when and how agents interact is a significant advantage. LangGraph's nodes and edges act like a playbook, allowing for phases in the workflow where agents work in parallel, and points where the workflow pauses for decisions or input [4]. This capability can be leveraged to handle tasks that were once bottlenecks, thereby gaining an edge in customer responsiveness, data analysis, and innovation capacity.\\n\\nIn conclusion, LangGraph offers a robust framework for startups aiming to harness the power of AI agents. Its unique features and architecture provide the tools necessary to build scalable, efficient, and innovative AI-driven solutions, positioning startups for success in a competitive market.\\n\\n### Sources\\n[1] https://oyelabs.com/langgraph-vs-crewai-vs-openai-swarm-ai-agent-framework/  \\n[2] https://developer.ibm.com/articles/awb-comparing-ai-agent-frameworks-crewai-langgraph-and-beeai/  \\n[3] https://medium.com/cyberark-engineering/building-production-ready-ai-agents-with-langgraph-a-real-life-use-case-7bda34c7f4e4  \\n[4] https://www.scalablepath.com/machine-learning/langgraph  \"]}}, 'step': 8, 'parents': {}, 'thread_id': '2'}, created_at='2025-06-26T22:17:16.292846+00:00', parent_config={'configurable': {'thread_id': '2', 'checkpoint_ns': '', 'checkpoint_id': '1f052db4-b646-6843-8007-a7e5d1e93d9a'}}, tasks=(), interrupts=())"
      ]
     },
     "execution_count": 67,
     "metadata": {},
     "output_type": "execute_result"
    }
   ],
   "source": [
    "state = interview_graph.get_state(thread)\n",
    "state"
   ]
  },
  {
   "cell_type": "code",
   "execution_count": 68,
   "metadata": {},
   "outputs": [
    {
     "name": "stdout",
     "output_type": "stream",
     "text": [
      "==================================\u001b[1m Ai Message \u001b[0m==================================\n",
      "\n",
      "Hello, I'm Alex Johnson, co-founder of a tech startup focused on AI-driven solutions. I'm particularly interested in understanding how adopting LangGraph as an agent framework can drive innovation and provide a competitive edge for startups like mine. Could you explain what makes LangGraph unique compared to other agent frameworks?\n",
      "==================================\u001b[1m Ai Message \u001b[0m==================================\n",
      "Name: expert\n",
      "\n",
      "LangGraph stands out as an AI agent framework due to its graph-based architecture, which is particularly effective for visualizing complex tasks and mapping out dependencies. This makes it ideal for structured workflows, allowing for a clear representation of the interactions and processes involved in AI-driven solutions [1]. \n",
      "\n",
      "One of the key features of LangGraph is its implementation of agent interactions as stateful graphs, where nodes represent functions or computational steps connected via edges. This setup allows for maintaining an agent state shared among all nodes and edges, providing a cohesive and integrated approach to managing workflows [2]. \n",
      "\n",
      "Additionally, LangGraph supports various memory strategies for optimizing token usage, structured output generation, and sandboxed code execution, which ensures safe evaluation of generated code. These features, combined with comprehensive error handling and diagnostic logging, create a development experience focused on building production-ready agent systems [3]. \n",
      "\n",
      "For startups, the ability to maintain context across interactions and have fine-grained control over both the flow and state of agent applications through a central persistence layer can drive innovation and provide a competitive advantage by enabling more efficient and scalable AI solutions [3].\n",
      "\n",
      "Sources:\n",
      "[1] oyelabs.com/langgraph-vs-crewai-vs-openai-swarm-ai-agent-framework\n",
      "[2] getzep.com/ai-agents/langgraph-tutorial\n",
      "[3] developer.ibm.com/articles/awb-comparing-ai-agent-frameworks-crewai-langgraph-and-beeai\n",
      "==================================\u001b[1m Ai Message \u001b[0m==================================\n",
      "\n",
      "That's fascinating! Could you provide a specific example of how a startup might leverage LangGraph to gain a competitive advantage in a practical application?\n",
      "==================================\u001b[1m Ai Message \u001b[0m==================================\n",
      "Name: expert\n",
      "\n",
      "Certainly! A practical example of how a startup might leverage LangGraph is by developing an AI agent designed to calculate potential energy savings for solar panels based on user input. This agent can be implemented as a lead generation tool on a solar panel seller’s website, where it interacts with potential customers to offer personalized savings estimates. By gathering key data such as monthly electricity costs, the agent can provide tailored insights, enhancing customer engagement and potentially increasing sales [4].\n",
      "\n",
      "LangGraph's flexibility allows the use of multiple large language models (LLMs) at different stages of the workflow, rather than relying on a single LLM. This means the agent can select the most suitable LLM based on the current task, such as using one LLM specialized in tool invocation and task processing, and another better suited for generating and formatting email content in HTML [5]. This adaptability can significantly enhance the efficiency and effectiveness of the AI solution, providing a competitive edge by offering a more personalized and responsive customer experience.\n",
      "\n",
      "Sources:\n",
      "[4] medium.com/@lorevanoudenhove/how-to-build-ai-agents-with-langgraph-a-step-by-step-guide-5d84d9c7e832\n",
      "[5] medium.com/cyberark-engineering/building-production-ready-ai-agents-with-langgraph-a-real-life-use-case-7bda34c7f4e4\n"
     ]
    }
   ],
   "source": [
    "for m in state.values['messages']:\n",
    "    m.pretty_print()"
   ]
  },
  {
   "cell_type": "markdown",
   "metadata": {},
   "source": [
    "## Using Map-Reduce for Interview Conduction"
   ]
  },
  {
   "cell_type": "code",
   "execution_count": 73,
   "metadata": {},
   "outputs": [],
   "source": [
    "import operator\n",
    "from typing import List, Annotated\n",
    "from typing_extensions import TypedDict\n",
    "\n",
    "class ResearchGraphState(TypedDict):\n",
    "    topic: str # Research topic\n",
    "    max_analysts: int # Number of analysts\n",
    "    human_analyst_feedback: str # Human feedback\n",
    "    analysts: List[Analyst] # Analyst asking questions\n",
    "    sections: Annotated[list, operator.add] # Send() API key\n",
    "    introduction: str # Introduction for the final report\n",
    "    content: str # Content for the final report\n",
    "    conclusion: str # Conclusion for the final report\n",
    "    final_report: str # Final report"
   ]
  },
  {
   "cell_type": "code",
   "execution_count": 90,
   "metadata": {},
   "outputs": [],
   "source": [
    "from langgraph.constants import Send\n",
    "\n",
    "def initialize_all_interviews(state: ResearchGraphState):\n",
    "    '''Node to Initialize all the Interviews once the Analysts are confirmed'''\n",
    "\n",
    "    # Check if human feedback\n",
    "    human_analyst_feedback=state.get('human_analyst_feedback')\n",
    "    if human_analyst_feedback:\n",
    "        # Return to create_analysts\n",
    "        return \"create_analysts\"\n",
    "    \n",
    "    topic = state['topic']\n",
    "    message = HumanMessage(content=f'So you said you were writing an article on: {topic}')\n",
    "    return [Send('conduct_interview', {'analyst':analyst, 'messages':[message]}) for analyst in state['analysts']]"
   ]
  },
  {
   "cell_type": "markdown",
   "metadata": {},
   "source": [
    "### Master Report Writer"
   ]
  },
  {
   "cell_type": "code",
   "execution_count": 96,
   "metadata": {},
   "outputs": [
    {
     "data": {
      "image/jpeg": "[encoded data removed]",
      "text/plain": [
       "<IPython.core.display.Image object>"
      ]
     },
     "metadata": {},
     "output_type": "display_data"
    }
   ],
   "source": [
    "# Takes in all the sections and writes the complete compiled report\n",
    "report_writer_instructions = \"\"\"You are a technical writer creating a report on this overall topic: \n",
    "\n",
    "{topic}\n",
    "    \n",
    "You have a team of analysts. Each analyst has done two things: \n",
    "\n",
    "1. They conducted an interview with an expert on a specific sub-topic.\n",
    "2. They write up their finding into a memo.\n",
    "\n",
    "Your task: \n",
    "\n",
    "1. You will be given a collection of memos from your analysts.\n",
    "2. Think carefully about the insights from each memo.\n",
    "3. Consolidate these into a crisp overall summary that ties together the central ideas from all of the memos. \n",
    "4. Summarize the central points in each memo into a cohesive single narrative.\n",
    "\n",
    "To format your report:\n",
    " \n",
    "1. Use markdown formatting. \n",
    "2. Include no pre-amble for the report.\n",
    "3. Use no sub-heading. \n",
    "4. Start your report with a single title header: ## Insights\n",
    "5. Do not mention any analyst names in your report.\n",
    "6. Preserve any citations in the memos, which will be annotated in brackets, for example [1] or [2].\n",
    "7. Create a final, consolidated list of sources and add to a Sources section with the `## Sources` header.\n",
    "8. List your sources in order and do not repeat.\n",
    "9. In the whole content written, make sure to update the indexes of sources properly i.e [1],[2] must be repeated again in different paragraphs/ sections\n",
    "\n",
    "[1] Source 1\n",
    "[2] Source 2\n",
    "\n",
    "Here are the memos from your analysts to build your report from: \n",
    "\n",
    "{context}\"\"\"\n",
    "\n",
    "def write_report(state: ResearchGraphState):\n",
    "    # Full set of sections\n",
    "    sections = state[\"sections\"]\n",
    "    topic = state[\"topic\"]\n",
    "\n",
    "    # Concat all sections together\n",
    "    formatted_str_sections = \"\\n\\n\".join([f\"{section}\" for section in sections])\n",
    "    \n",
    "    # Summarize the sections into a final report\n",
    "    system_message = report_writer_instructions.format(topic=topic, context=formatted_str_sections)    \n",
    "    report = llm.invoke([SystemMessage(content=system_message)]+[HumanMessage(content=f\"Write a report based upon these memos.\")]) \n",
    "    return {\"content\": report.content}\n",
    "\n",
    "intro_conclusion_instructions = \"\"\"You are a technical writer finishing a report on {topic}\n",
    "\n",
    "You will be given all of the sections of the report.\n",
    "\n",
    "You job is to write a crisp and compelling introduction or conclusion section.\n",
    "\n",
    "The user will instruct you whether to write the introduction or conclusion.\n",
    "\n",
    "Include no pre-amble for either section.\n",
    "\n",
    "Target around 100 words, crisply previewing (for introduction) or recapping (for conclusion) all of the sections of the report.\n",
    "\n",
    "Use markdown formatting. \n",
    "\n",
    "For your introduction, create a compelling title and use the # header for the title.\n",
    "\n",
    "For your introduction, use ## Introduction as the section header. \n",
    "\n",
    "For your conclusion, use ## Conclusion as the section header.\n",
    "\n",
    "Here are the sections to reflect on for writing: {formatted_str_sections}\"\"\"\n",
    "\n",
    "def write_introduction(state: ResearchGraphState):\n",
    "    # Full set of sections\n",
    "    sections = state[\"sections\"]\n",
    "    topic = state[\"topic\"]\n",
    "\n",
    "    # Concat all sections together\n",
    "    formatted_str_sections = \"\\n\\n\".join([f\"{section}\" for section in sections])\n",
    "    \n",
    "    # Summarize the sections into a final report\n",
    "    \n",
    "    instructions = intro_conclusion_instructions.format(topic=topic, formatted_str_sections=formatted_str_sections)    \n",
    "    intro = llm.invoke([instructions]+[HumanMessage(content=f\"Write the report introduction\")]) \n",
    "    return {\"introduction\": intro.content}\n",
    "\n",
    "def write_conclusion(state: ResearchGraphState):\n",
    "    # Full set of sections\n",
    "    sections = state[\"sections\"]\n",
    "    topic = state[\"topic\"]\n",
    "\n",
    "    # Concat all sections together\n",
    "    formatted_str_sections = \"\\n\\n\".join([f\"{section}\" for section in sections])\n",
    "    \n",
    "    # Summarize the sections into a final report\n",
    "    \n",
    "    instructions = intro_conclusion_instructions.format(topic=topic, formatted_str_sections=formatted_str_sections)    \n",
    "    conclusion = llm.invoke([instructions]+[HumanMessage(content=f\"Write the report conclusion\")]) \n",
    "    return {\"conclusion\": conclusion.content}\n",
    "\n",
    "def finalize_report(state: ResearchGraphState):\n",
    "    \"\"\" The is the \"reduce\" step where we gather all the sections, combine them, and reflect on them to write the intro/conclusion \"\"\"\n",
    "    # Save full final report\n",
    "    content = state[\"content\"]\n",
    "    if content.startswith(\"## Insights\"):\n",
    "        content = content.strip(\"## Insights\")\n",
    "    if \"## Sources\" in content:\n",
    "        try:\n",
    "            content, sources = content.split(\"\\n## Sources\\n\")\n",
    "        except:\n",
    "            sources = None\n",
    "    else:\n",
    "        sources = None\n",
    "\n",
    "    final_report = state[\"introduction\"] + \"\\n\\n---\\n\\n\" + content + \"\\n\\n---\\n\\n\" + state[\"conclusion\"]\n",
    "    if sources is not None:\n",
    "        final_report += \"\\n\\n## Sources\\n\" + sources\n",
    "    return {\"final_report\": final_report}\n",
    "\n",
    "# Add nodes and edges \n",
    "builder = StateGraph(ResearchGraphState)\n",
    "builder.add_node(\"create_analysts\", create_analysts)\n",
    "builder.add_node(\"human_feedback\", human_feedback)\n",
    "builder.add_node(\"conduct_interview\", interview_builder.compile())\n",
    "builder.add_node(\"write_report\",write_report)\n",
    "builder.add_node(\"write_introduction\",write_introduction)\n",
    "builder.add_node(\"write_conclusion\",write_conclusion)\n",
    "builder.add_node(\"finalize_report\",finalize_report)\n",
    "\n",
    "# Logic\n",
    "builder.add_edge(START, \"create_analysts\")\n",
    "builder.add_edge(\"create_analysts\", \"human_feedback\")\n",
    "builder.add_conditional_edges(\"human_feedback\", initialize_all_interviews, [\"create_analysts\", \"conduct_interview\"])\n",
    "builder.add_edge(\"conduct_interview\", \"write_report\")\n",
    "builder.add_edge(\"conduct_interview\", \"write_introduction\")\n",
    "builder.add_edge(\"conduct_interview\", \"write_conclusion\")\n",
    "builder.add_edge([\"write_conclusion\", \"write_report\", \"write_introduction\"], \"finalize_report\")\n",
    "builder.add_edge(\"finalize_report\", END)\n",
    "\n",
    "# Compile\n",
    "memory = MemorySaver()\n",
    "graph = builder.compile(interrupt_before=['human_feedback'], checkpointer=memory)\n",
    "display(Image(graph.get_graph(xray=1).draw_mermaid_png())) "
   ]
  },
  {
   "cell_type": "markdown",
   "metadata": {},
   "source": [
    "## Sample Run"
   ]
  },
  {
   "cell_type": "code",
   "execution_count": 97,
   "metadata": {},
   "outputs": [
    {
     "name": "stdout",
     "output_type": "stream",
     "text": [
      "Name: Dr. Emily Carter\n",
      "Affiliation: Institute for Advanced AI Research\n",
      "Role: AI Linguistics Specialist\n",
      "Description: Dr. Carter focuses on the integration of LangGraph in enhancing natural language processing capabilities within AgenticAI systems. Her primary concern is ensuring that LangGraph can effectively handle the complexities of human language to improve AI communication and understanding.\n",
      "--------------------------------------------------\n",
      "Name: Mr. Raj Patel\n",
      "Affiliation: Tech Innovations Lab\n",
      "Role: AI Systems Architect\n",
      "Description: Mr. Patel is interested in the structural and architectural implications of incorporating LangGraph into AgenticAI. He is motivated by the potential for LangGraph to streamline AI system design and improve efficiency in processing and decision-making.\n",
      "--------------------------------------------------\n",
      "Name: Dr. Sophia Nguyen\n",
      "Affiliation: Global AI Ethics Consortium\n",
      "Role: AI Ethics Analyst\n",
      "Description: Dr. Nguyen examines the ethical considerations of using LangGraph in AgenticAI, focusing on issues such as bias, transparency, and accountability. Her concern is to ensure that the integration of LangGraph does not compromise ethical standards and that it promotes fair and responsible AI development.\n",
      "--------------------------------------------------\n"
     ]
    }
   ],
   "source": [
    "# Inputs\n",
    "max_analysts = 3 \n",
    "topic = \"The usefulness of LangGraph in upcoming era of AgenticAI\"\n",
    "thread = {\"configurable\": {\"thread_id\": \"1\"}}\n",
    "\n",
    "# Run the graph until the first interruption\n",
    "for event in graph.stream({\"topic\":topic,\n",
    "                           \"max_analysts\":max_analysts}, \n",
    "                          thread, \n",
    "                          stream_mode=\"values\"):\n",
    "    \n",
    "    analysts = event.get('analysts', '')\n",
    "    if analysts:\n",
    "        for analyst in analysts:\n",
    "            print(f\"Name: {analyst.name}\")\n",
    "            print(f\"Affiliation: {analyst.affiliation}\")\n",
    "            print(f\"Role: {analyst.role}\")\n",
    "            print(f\"Description: {analyst.description}\")\n",
    "            print(\"-\" * 50)  "
   ]
  },
  {
   "cell_type": "code",
   "execution_count": 98,
   "metadata": {},
   "outputs": [
    {
     "name": "stdout",
     "output_type": "stream",
     "text": [
      "Name: Dr. Emily Carter\n",
      "Affiliation: Institute for Advanced AI Research\n",
      "Role: AI Linguistics Specialist\n",
      "Description: Dr. Carter focuses on the integration of LangGraph in enhancing natural language processing capabilities within AgenticAI systems. Her primary concern is ensuring that LangGraph can effectively handle the complexities of human language to improve AI communication and understanding.\n",
      "--------------------------------------------------\n",
      "Name: Mr. Raj Patel\n",
      "Affiliation: Tech Innovations Lab\n",
      "Role: AI Systems Architect\n",
      "Description: Mr. Patel is interested in the structural and architectural implications of incorporating LangGraph into AgenticAI. He is motivated by the potential for LangGraph to streamline AI system design and improve efficiency in processing and decision-making.\n",
      "--------------------------------------------------\n",
      "Name: Dr. Sophia Nguyen\n",
      "Affiliation: Global AI Ethics Consortium\n",
      "Role: AI Ethics Analyst\n",
      "Description: Dr. Nguyen examines the ethical considerations of using LangGraph in AgenticAI, focusing on issues such as bias, transparency, and accountability. Her concern is to ensure that the integration of LangGraph does not compromise ethical standards and that it promotes fair and responsible AI development.\n",
      "--------------------------------------------------\n",
      "Name: Alex Johnson\n",
      "Affiliation: Tech Industry Insights\n",
      "Role: Industry Analyst\n",
      "Description: Focuses on the integration of LangGraph in the tech industry, analyzing its potential to enhance AI-driven solutions and improve operational efficiencies. Concerned with how LangGraph can be leveraged to meet industry demands and drive innovation.\n",
      "--------------------------------------------------\n",
      "Name: Dr. Emily Chen\n",
      "Affiliation: AI Ethics and Society\n",
      "Role: Ethics Analyst\n",
      "Description: Explores the ethical implications of using LangGraph in AgenticAI, ensuring that its deployment aligns with societal values and ethical standards. Motivated by the need to balance technological advancement with ethical responsibility.\n",
      "--------------------------------------------------\n",
      "Name: Raj Patel\n",
      "Affiliation: Future Technologies Research Institute\n",
      "Role: Innovation Analyst\n",
      "Description: Investigates the potential of LangGraph to revolutionize AI capabilities, focusing on its role in advancing AgenticAI technologies. Interested in how LangGraph can be a catalyst for new AI applications and its impact on future technological landscapes.\n",
      "--------------------------------------------------\n"
     ]
    }
   ],
   "source": [
    "# We now update the state as if we are the human_feedback node\n",
    "graph.update_state(thread, {\"human_analyst_feedback\": \n",
    "                                \"Make it more industry centric.\"}, as_node=\"human_feedback\")\n",
    "# Check\n",
    "for event in graph.stream(None, thread, stream_mode=\"values\"):\n",
    "    analysts = event.get('analysts', '')\n",
    "    if analysts:\n",
    "        for analyst in analysts:\n",
    "            print(f\"Name: {analyst.name}\")\n",
    "            print(f\"Affiliation: {analyst.affiliation}\")\n",
    "            print(f\"Role: {analyst.role}\")\n",
    "            print(f\"Description: {analyst.description}\")\n",
    "            print(\"-\" * 50)  "
   ]
  },
  {
   "cell_type": "code",
   "execution_count": 99,
   "metadata": {},
   "outputs": [
    {
     "name": "stdout",
     "output_type": "stream",
     "text": [
      "--Node--\n",
      "conduct_interview\n",
      "--Node--\n",
      "conduct_interview\n",
      "--Node--\n",
      "conduct_interview\n",
      "--Node--\n",
      "write_introduction\n",
      "--Node--\n",
      "write_conclusion\n",
      "--Node--\n",
      "write_report\n",
      "--Node--\n",
      "finalize_report\n"
     ]
    }
   ],
   "source": [
    "graph.update_state(thread, {\"human_analyst_feedback\": None}, as_node=\"human_feedback\")\n",
    "\n",
    "# Continue\n",
    "for event in graph.stream(None, thread, stream_mode=\"updates\"):\n",
    "    print(\"--Node--\")\n",
    "    node_name = next(iter(event.keys()))\n",
    "    print(node_name)"
   ]
  },
  {
   "cell_type": "code",
   "execution_count": 102,
   "metadata": {},
   "outputs": [
    {
     "data": {
      "text/markdown": [
       "# LangGraph: Pioneering the Future of Agentic AI\n",
       "\n",
       "## Introduction\n",
       "\n",
       "In the rapidly advancing tech industry, LangGraph emerges as a transformative tool, poised to revolutionize AI-driven solutions. This report delves into LangGraph's potential to enhance operational efficiencies and drive innovation. By offering a structured framework for natural language processing, LangGraph excels in creating stateful, multi-actor applications with Large Language Models (LLMs). It orchestrates complex workflows, enabling parallel execution and decision-making. LangGraph's real-world applications span customer service, IoT integration, and more, showcasing its versatility. As we navigate the ethical landscape of AgenticAI, LangGraph's robust platform stands as a catalyst for advancing AI technologies, ensuring alignment with societal values.\n",
       "\n",
       "---\n",
       "\n",
       "\n",
       "\n",
       "LangGraph is emerging as a pivotal framework in the rapidly evolving landscape of AgenticAI, offering transformative capabilities for developing AI-driven solutions across various industries. As a high-level abstraction tool, LangGraph is designed to streamline the development of applications involving multiple AI agents, providing a structured framework for natural language processing and understanding. Its graph-based representation allows developers to define actors, their attributes, relationships, and behaviors, thereby simplifying and accelerating the development process [1]. This flexibility is crucial for creating stateful, multi-actor applications with Large Language Models (LLMs), which are essential for advanced chatbots and interactive AI systems [1].\n",
       "\n",
       "One of LangGraph's most compelling features is its ability to orchestrate complex workflows involving multiple AI agents. By controlling when and how agents interact, LangGraph acts as a playbook, enabling parallel execution of tasks and decision-making processes. This capability enhances creativity and power in AI applications while maintaining the rigor and clarity of traditional software engineering [2]. Furthermore, LangGraph's growing ecosystem and active community contribute to its stability and adaptability, insulating solutions from the volatility of the AI vendor landscape [2].\n",
       "\n",
       "The integration of LangGraph into AgenticAI systems also presents unique ethical considerations. As these systems allow LLMs to autonomously control application workflows, they introduce new ethical dilemmas, such as ensuring fairness, accountability, and transparency in decision-making processes [3]. The complexity and autonomy of these systems necessitate robust ethical guidelines to prevent misuse and ensure that they benefit humanity as a whole [3]. This includes implementing safeguards against potential misbehaviors, such as prompt injection attacks, and ensuring that AI systems do not perpetuate existing biases, particularly in sensitive areas like healthcare [5].\n",
       "\n",
       "LangGraph's real-world applications are diverse and impactful. In customer service, AI-powered support agents built on LangGraph technology are transforming the industry by providing efficient and effective solutions, thereby enhancing operational capabilities and market competitiveness [3]. Additionally, LangGraph's integration with IoT devices creates smart environments that enhance automation and data collection, leading to significant operational efficiencies [3]. These applications demonstrate LangGraph's potential to revolutionize sectors such as finance, healthcare, and logistics by driving AI-driven solutions for risk management, patient care, and route optimization [3].\n",
       "\n",
       "LangGraph's architecture, inspired by Pregel and Apache Beam, provides a graph-based design that allows for flexible node and edge connections, custom state management, and full control over agent interactions [1]. This flexibility is crucial for developing applications that require intricate workflows and real-time data processing. Its integration with LangChain further enhances its capabilities, allowing for seamless incorporation of language models into agentic workflows [1]. This integration is particularly beneficial for applications in conversational AI and natural language processing, where maintaining contextual coherence and structured task dependencies is essential [2].\n",
       "\n",
       "Overall, LangGraph stands out as a powerful tool for advancing Agentic AI technologies, offering a comprehensive framework that supports the development of complex, stateful, and multi-agent applications. Its ability to integrate with other AI tools and frameworks, coupled with its flexible architecture, positions it as a catalyst for new AI applications and innovations in the technological landscape.\n",
       "\n",
       "\n",
       "---\n",
       "\n",
       "## Conclusion\n",
       "\n",
       "LangGraph emerges as a pivotal framework in the evolving landscape of Agentic AI, offering transformative capabilities for developing multi-agent systems. Its high-level abstraction and graph-based design streamline the creation of stateful, interactive AI applications, enhancing operational efficiencies across industries. By orchestrating complex workflows and integrating with IoT devices, LangGraph drives innovation in sectors like customer service, finance, and healthcare. However, as it empowers AI systems with greater autonomy, it also necessitates robust ethical guidelines to ensure fairness, accountability, and transparency. As the tech industry advances, LangGraph's role in shaping AI-driven solutions will be indispensable.\n",
       "\n",
       "## Sources\n",
       "[1] https://www.linkedin.com/pulse/what-langgraph-how-useful-building-llm-based-sarfraz-nawaz-walic/  \n",
       "[2] https://www.scalablepath.com/machine-learning/langgraph/  \n",
       "[3] https://www.rapidinnovation.io/post/ai-agents-in-langgraph/  \n",
       "[4] https://www.thoughtspot.com/data-trends/data-and-analytics-engineering/agentic-ai  \n",
       "[5] https://medium.com/@adnanmasood/the-agentic-imperative-series-part-3-langchain-langgraph-building-dynamic-agentic-workflows-7184bad6b827"
      ],
      "text/plain": [
       "<IPython.core.display.Markdown object>"
      ]
     },
     "execution_count": 102,
     "metadata": {},
     "output_type": "execute_result"
    }
   ],
   "source": [
    "from IPython.display import Markdown\n",
    "final_state = graph.get_state(thread)\n",
    "report = final_state.values.get('final_report')\n",
    "Markdown(report)"
   ]
  },
  {
   "cell_type": "code",
   "execution_count": null,
   "metadata": {},
   "outputs": [],
   "source": []
  }
 ],
 "metadata": {
  "kernelspec": {
   "display_name": "langgraph_env",
   "language": "python",
   "name": "python3"
  },
  "language_info": {
   "codemirror_mode": {
    "name": "ipython",
    "version": 3
   },
   "file_extension": ".py",
   "mimetype": "text/x-python",
   "name": "python",
   "nbconvert_exporter": "python",
   "pygments_lexer": "ipython3",
   "version": "3.11.0"
  }
 },
 "nbformat": 4,
 "nbformat_minor": 2
}
